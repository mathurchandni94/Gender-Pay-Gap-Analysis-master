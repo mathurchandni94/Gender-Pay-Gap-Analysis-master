{
 "cells": [
  {
   "cell_type": "markdown",
   "metadata": {},
   "source": [
    "# Measuring the Gender Pay Gap with Blinder-Oaxaca Decompositions\n",
    "###### (And comparing to existing measures)\n",
    "---------\n",
    "#### Christopher Fong and Ronald Walker\n",
    "\n",
    "SUMMARY: A gender pay gap exists when one gender, either male or female, earn higher wages. A gender pay gap can then be measured in two ways -- either adjusted or unadjusted. The unadjusted gap is just the difference in average earned wages. The adjusted gap is the pay gap that remains when other factors, such as hours worked and roles taken on are accounted for. The adjusted gap attempts to measure if males and females get the same wage for the same work.\n",
    "\n",
    "We attempt to take a look at the components of the gender pay gap for multiple countries, implementing a commonly used method for the problem."
   ]
  },
  {
   "cell_type": "code",
   "execution_count": 1,
   "metadata": {
    "collapsed": true
   },
   "outputs": [],
   "source": [
    "import pandas as pd\n",
    "import matplotlib.pyplot as plt\n",
    "from IPython.display import display\n",
    "import statsmodels.api as sm\n",
    "from statsmodels.iolib.table import SimpleTable\n",
    "import seaborn as sns\n",
    "import numpy as np\n",
    "plt.style.use('ggplot')\n",
    "%matplotlib inline"
   ]
  },
  {
   "cell_type": "markdown",
   "metadata": {},
   "source": [
    "**Table of Contents:**\n",
    "1. Implementation and Interpretation of Blinder-Oaxaca\n",
    "\n",
    "2. Data Collection and Cleaning\n",
    "\n",
    "3. Application and Comparison"
   ]
  },
  {
   "cell_type": "markdown",
   "metadata": {},
   "source": [
    "## 1. Implementation and Interpretation of Blinder-Oaxaca\n",
    "\n",
    "Blinder-Oaxaca decompositions are easily performed in Stata with the `oaxaca` package. There is also an R package, but there is yet to be one created for Python. This project is the underlying foundation for a Python implementation.\n",
    "\n",
    "The goal of a Blinder-Oaxaca decomposition is to take the difference in expected outcomes between two groups, and identify what contributes to the outcome gap. "
   ]
  },
  {
   "cell_type": "markdown",
   "metadata": {},
   "source": [
    "### Decompositions\n",
    "\n",
    "*Note: Because the scope of this project is to create a greater understanding of the root of potential pay gaps, this walkthrough will be in the context of that. Our outcome of interest will be wages $w$. The two groups we will be comparing are males $m$ and females $f$.*\n",
    "\n",
    "In this section we'll break down the calculation of the decomposition. The gap in wages is the difference between the average wage for males and the average wage for females.\n",
    "\n",
    "$$Gap = E[Wage_m] - E[Wage_f]$$\n",
    "\n",
    "We substitute $Wage$ for each group with a linear model of the following form, where $X$ are the attributes that determine an individual's wage, and $\\epsilon$ is an error term:\n",
    "\n",
    "$$Wage= X'\\beta + \\epsilon$$\n",
    "\n",
    "with $\\bar\\epsilon=0$. After plugging the linear models for each gender into the $Gap$ equation, and using the assumptions that the expectation of the errors is zero and $E[\\beta]=\\beta$, we are left with\n",
    "\n",
    "$$Gap = E[X_m]'\\beta_m - E[X_f]'\\beta_f$$\n",
    "\n",
    "We can further decompose the regression terms and $X$ values to identify the source of the difference. There are two main ways that Oaxaca-type decompositions are broken down."
   ]
  },
  {
   "cell_type": "markdown",
   "metadata": {},
   "source": [
    "#### 1. Three-fold\n",
    "\n",
    "The first decomposition breaks down into three parts:\n",
    "\n",
    "$$Gap = (E[X_m]-E[X_f])'\\beta_f \\quad \\quad (1)$$\n",
    "$$+E[X_f]'(\\beta_m-\\beta_f) \\quad \\quad \\quad (2)$$\n",
    "$$+(E[X_m]-E[X_f])'(\\beta_m-\\beta_f) \\quad \\quad (3)$$\n",
    "\n",
    "Each of these represents a source of the difference, we'll call them the Endowment (1), Coefficient (2), and Interaction (3) terms.\n",
    "\n",
    "(1) The first term is the portion of the gap that comes from different **endowments**, that is, the difference in attributes between males and females. So a difference in educational attainment would be captured here.\n",
    "\n",
    "(2) The second term is the portion of the gap difference that comes from different **coefficients**, or the difference in returns from their attributes. So a difference in the value that education returns to wages would be captured here.\n",
    "\n",
    "(3) The third term is the portion of the gap that comes from the **interaction** between the different endowments and coefficients.\n",
    "\n",
    "In summary, a difference in the slope for education is in (2), and being somewhere else along that line is in (1).\n",
    "\n",
    "-------\n",
    "*It is important to note that this decomposition uses the female regression as its baseline. In (1), we use the female regression coefficients to calculate the different endowment effect, and in (2), we use the female values of $E[X]$ to calculate the impact of different coefficients. This can easily be done using a male regression baseline by switching the order of the terms.*\n",
    "\n",
    "If we want to see the contributions to each of (1), (2), and (3) from individual variables (each row in $X$), we are able to use the fact that each is a summation of the contributions from each subfactor. Using the Endowment term as an example, for each of the $m$ variables:\n",
    "\n",
    "$$(E[X_m]-E[X_f])'\\beta_f = \\sum_{i=1}^{m}(E[X_{mi}]-E[X_{fi}])'\\beta_{fi}$$\n",
    "\n",
    "We can pull out a term of the summation for variable analysis.\n",
    "\n",
    "------"
   ]
  },
  {
   "cell_type": "markdown",
   "metadata": {},
   "source": [
    "#### 2. Two-fold\n",
    "\n",
    "A second type of Blinder-Oaxaca type decomposition is a two-fold decomposition. It splits the gap into two components: an explained portion $E$ and an unexplained portion $U$.\n",
    "\n",
    "$$Gap = E + U$$\n",
    "\n",
    "This decomposition makes the assumption that there is a set of true regression coefficients, $\\beta^*.$ There are many ways to calculate the true regression line, but it is highly contextual. If it is thought that there exists discrimination that is negative towards one group, and not positive towards the other, $\\beta^*$ may just be the coefficients of the undiscriminated group. If one group benefits and the other is hurt by discrimination, $\\beta^*$ is often calculated from a pooled regression between the two groups. We will be using a pooled regression as our $\\beta^*$, though there are many other ways to calculate it.\n",
    "\n",
    "The **explained** portion $E$ is called the \"quantity effect\", and is similar to the **endowments** term from the three-fold decomposition.\n",
    "\n",
    "$$E = (E[X_m]-E[X_f])\\beta^* $$\n",
    "\n",
    "The **unexplained** portion $U$ captures the differences in coefficients from the true regression.\n",
    "\n",
    "$$U = E[X_m](\\beta_m-\\beta^*) + E[X_f](\\beta^*-\\beta_f) $$\n",
    "\n",
    "This **unexplained** portion is normally attributed to discrimination, but as stated in the Jann paper, \"this interpretation hinges on the assumption that there are no relevant unobserved predictors.\"(4) If we have low explanatory power in our regression equations, there is potential for most of the noise to be captured in this term.\n",
    "\n",
    "Even though discrimination is normally attributed to the coefficients, sometimes there is discrimination that presents itself in the endowment terms. For example, if females are less likely to be admitted to school because of discrimination, then they will have lower education values not naturally inherent to them.\n",
    "\n",
    "*Note: we will include an indicator for gender in our pooled model (this is what Stata does in their implementation).*"
   ]
  },
  {
   "cell_type": "markdown",
   "metadata": {},
   "source": [
    "#### Summary:\n",
    "\n",
    "Three-fold: difference in endowments, difference in returns to those endowments, and interaction between those endowments and the rate of return. Uses one of the groups as a baseline. Discrimination is measured from differences in returns and (sometimes) from the interaction term.\n",
    "\n",
    "Two-fold: difference in endowments and difference in returns from endowments. We use a pooled baseline. Discrimination is measured from the unexplained term (the difference in returns from endowments)."
   ]
  },
  {
   "cell_type": "markdown",
   "metadata": {},
   "source": [
    "### Implementation\n",
    "\n",
    "Below, we walk through the steps that it takes to perform a single Blinder-Oaxaca decomposition.\n",
    "\n",
    "#### Reading Data\n",
    "\n",
    "We use data from Canada to perform this operation."
   ]
  },
  {
   "cell_type": "code",
   "execution_count": 2,
   "metadata": {},
   "outputs": [
    {
     "name": "stdout",
     "output_type": "stream",
     "text": [
      "(724237, 10)\n"
     ]
    },
    {
     "data": {
      "text/html": [
       "<div>\n",
       "<table border=\"1\" class=\"dataframe\">\n",
       "  <thead>\n",
       "    <tr style=\"text-align: right;\">\n",
       "      <th></th>\n",
       "      <th>AGE</th>\n",
       "      <th>MARST</th>\n",
       "      <th>NATIVITY</th>\n",
       "      <th>EDATTAIN</th>\n",
       "      <th>EMPSTAT</th>\n",
       "      <th>OCCISCO</th>\n",
       "      <th>INDGEN</th>\n",
       "      <th>INCTOT</th>\n",
       "      <th>constant</th>\n",
       "      <th>female</th>\n",
       "    </tr>\n",
       "  </thead>\n",
       "  <tbody>\n",
       "    <tr>\n",
       "      <th>0</th>\n",
       "      <td>72</td>\n",
       "      <td>Widowed</td>\n",
       "      <td>Native-born</td>\n",
       "      <td>Less than primary completed</td>\n",
       "      <td>Inactive</td>\n",
       "      <td>NIU (not in universe)</td>\n",
       "      <td>NIU (not in universe)</td>\n",
       "      <td>9.961756</td>\n",
       "      <td>1</td>\n",
       "      <td>0.0</td>\n",
       "    </tr>\n",
       "    <tr>\n",
       "      <th>1</th>\n",
       "      <td>32</td>\n",
       "      <td>Single/never married</td>\n",
       "      <td>Native-born</td>\n",
       "      <td>Secondary completed</td>\n",
       "      <td>Employed</td>\n",
       "      <td>Crafts and related trades workers</td>\n",
       "      <td>Other services</td>\n",
       "      <td>10.694215</td>\n",
       "      <td>1</td>\n",
       "      <td>0.0</td>\n",
       "    </tr>\n",
       "    <tr>\n",
       "      <th>2</th>\n",
       "      <td>40</td>\n",
       "      <td>Married/in union</td>\n",
       "      <td>Native-born</td>\n",
       "      <td>Secondary completed</td>\n",
       "      <td>Employed</td>\n",
       "      <td>Clerks</td>\n",
       "      <td>Public administration and defense</td>\n",
       "      <td>10.956056</td>\n",
       "      <td>1</td>\n",
       "      <td>0.0</td>\n",
       "    </tr>\n",
       "    <tr>\n",
       "      <th>3</th>\n",
       "      <td>37</td>\n",
       "      <td>Married/in union</td>\n",
       "      <td>Native-born</td>\n",
       "      <td>Secondary completed</td>\n",
       "      <td>Employed</td>\n",
       "      <td>Technicians and associate professionals</td>\n",
       "      <td>Wholesale and retail trade</td>\n",
       "      <td>10.515967</td>\n",
       "      <td>1</td>\n",
       "      <td>1.0</td>\n",
       "    </tr>\n",
       "    <tr>\n",
       "      <th>4</th>\n",
       "      <td>51</td>\n",
       "      <td>Married/in union</td>\n",
       "      <td>Native-born</td>\n",
       "      <td>Secondary completed</td>\n",
       "      <td>Employed</td>\n",
       "      <td>Technicians and associate professionals</td>\n",
       "      <td>Transportation, storage and communications</td>\n",
       "      <td>10.138560</td>\n",
       "      <td>1</td>\n",
       "      <td>1.0</td>\n",
       "    </tr>\n",
       "  </tbody>\n",
       "</table>\n",
       "</div>"
      ],
      "text/plain": [
       "   AGE                 MARST     NATIVITY                     EDATTAIN  \\\n",
       "0   72               Widowed  Native-born  Less than primary completed   \n",
       "1   32  Single/never married  Native-born          Secondary completed   \n",
       "2   40      Married/in union  Native-born          Secondary completed   \n",
       "3   37      Married/in union  Native-born          Secondary completed   \n",
       "4   51      Married/in union  Native-born          Secondary completed   \n",
       "\n",
       "    EMPSTAT                                  OCCISCO  \\\n",
       "0  Inactive                    NIU (not in universe)   \n",
       "1  Employed        Crafts and related trades workers   \n",
       "2  Employed                                   Clerks   \n",
       "3  Employed  Technicians and associate professionals   \n",
       "4  Employed  Technicians and associate professionals   \n",
       "\n",
       "                                       INDGEN     INCTOT  constant  female  \n",
       "0                       NIU (not in universe)   9.961756         1     0.0  \n",
       "1                              Other services  10.694215         1     0.0  \n",
       "2           Public administration and defense  10.956056         1     0.0  \n",
       "3                  Wholesale and retail trade  10.515967         1     1.0  \n",
       "4  Transportation, storage and communications  10.138560         1     1.0  "
      ]
     },
     "execution_count": 2,
     "metadata": {},
     "output_type": "execute_result"
    }
   ],
   "source": [
    "df = pd.read_csv('data/Canada.csv').drop(['COUNTRY', 'PERWT'], axis=1)\n",
    "# inserting a constant term\n",
    "df['constant'] = 1\n",
    "# making an indicator for gender\n",
    "df['female'] = (df['SEX'] == 'Female').astype(float)\n",
    "df.drop('SEX', axis=1, inplace=True)\n",
    "print(df.shape)\n",
    "df.head()"
   ]
  },
  {
   "cell_type": "markdown",
   "metadata": {},
   "source": [
    "We transform our categorical variables into dummy variables for our later regressions."
   ]
  },
  {
   "cell_type": "code",
   "execution_count": 3,
   "metadata": {
    "collapsed": true,
    "scrolled": false
   },
   "outputs": [],
   "source": [
    "# adding dummy variables for categorical vars, and dropping the first one to remove colinearity\n",
    "dummies = pd.get_dummies(df[['MARST', 'NATIVITY', 'EDATTAIN', 'EMPSTAT', 'OCCISCO', 'INDGEN']], drop_first=True)\n",
    "df = pd.concat([df[['INCTOT']], dummies, df[['female', 'AGE', 'constant']]], axis=1)"
   ]
  },
  {
   "cell_type": "markdown",
   "metadata": {},
   "source": [
    "We need to split our data into two sets, one for females and one for males."
   ]
  },
  {
   "cell_type": "code",
   "execution_count": 4,
   "metadata": {
    "collapsed": true,
    "scrolled": true
   },
   "outputs": [],
   "source": [
    "male = df[df['female']==0].reset_index(drop=True).drop('female', axis=1)\n",
    "female = df[df['female']==1].reset_index(drop=True).drop('female', axis=1)\n",
    "\n",
    "Xm = male.drop('INCTOT', axis=1)\n",
    "Xf = female.drop('INCTOT', axis=1)\n",
    "Ym = male['INCTOT']\n",
    "Yf = female['INCTOT']"
   ]
  },
  {
   "cell_type": "markdown",
   "metadata": {},
   "source": [
    "We then use that to make two regression models, using `statsmodels`'s OLS."
   ]
  },
  {
   "cell_type": "code",
   "execution_count": 5,
   "metadata": {
    "collapsed": true
   },
   "outputs": [],
   "source": [
    "female_model = sm.OLS(Yf, Xf).fit()\n",
    "male_model = sm.OLS(Ym, Xm).fit()"
   ]
  },
  {
   "cell_type": "markdown",
   "metadata": {},
   "source": [
    "From these models, we are able to access $X_f$, $X_m$, $\\beta_f$, and $\\beta_m$, which are necessary to solve our equations. "
   ]
  },
  {
   "cell_type": "code",
   "execution_count": 6,
   "metadata": {
    "collapsed": true
   },
   "outputs": [],
   "source": [
    "Bf = female_model.params\n",
    "Bm = male_model.params"
   ]
  },
  {
   "cell_type": "markdown",
   "metadata": {},
   "source": [
    "### Decomposition\n",
    "\n",
    "Our goal is to attribute the gap between two groups to certain differences. The wage gap between males and females is defined as \n",
    "\n",
    "$$Gap = E[Wage_m] - E[Wage_f]$$\n",
    "\n",
    "The gap is computed below (remember that we are dealing with log wages)."
   ]
  },
  {
   "cell_type": "code",
   "execution_count": 7,
   "metadata": {},
   "outputs": [
    {
     "data": {
      "text/plain": [
       "0.3037566274879566"
      ]
     },
     "execution_count": 7,
     "metadata": {},
     "output_type": "execute_result"
    }
   ],
   "source": [
    "male_mean = np.mean(Ym)\n",
    "female_mean = np.mean(Yf)\n",
    "\n",
    "gap = male_mean - female_mean\n",
    "gap"
   ]
  },
  {
   "cell_type": "markdown",
   "metadata": {},
   "source": [
    "#### Three-fold Decomposition\n",
    "\n",
    "The three-fold decomposition is split into three parts, Endowments, Coefficients, and Interactions.\n",
    "\n",
    "$$Gap = Endowments + Coefficients + Interactions$$\n",
    "\n",
    "Those are calculated individually below.\n",
    "\n",
    "$$Endowments = (E[X_m]-E[X_f])'\\beta_f$$"
   ]
  },
  {
   "cell_type": "code",
   "execution_count": 8,
   "metadata": {},
   "outputs": [
    {
     "data": {
      "text/plain": [
       "0.075722997634111083"
      ]
     },
     "execution_count": 8,
     "metadata": {},
     "output_type": "execute_result"
    }
   ],
   "source": [
    "endowments = np.transpose(np.mean(Xm) - np.mean(Xf)) @ np.array(Bf)\n",
    "endowments"
   ]
  },
  {
   "cell_type": "markdown",
   "metadata": {},
   "source": [
    "$$Coefficients = E[X_f]'(\\beta_m-\\beta_f)$$"
   ]
  },
  {
   "cell_type": "code",
   "execution_count": 9,
   "metadata": {},
   "outputs": [
    {
     "data": {
      "text/plain": [
       "0.22345359683362187"
      ]
     },
     "execution_count": 9,
     "metadata": {},
     "output_type": "execute_result"
    }
   ],
   "source": [
    "coefficients = np.transpose(np.mean(Xf)) @ np.array(Bm - Bf)\n",
    "coefficients"
   ]
  },
  {
   "cell_type": "markdown",
   "metadata": {},
   "source": [
    "$$Interactions = (E[X_m]-E[X_f])'(\\beta_m-\\beta_f)$$"
   ]
  },
  {
   "cell_type": "code",
   "execution_count": 10,
   "metadata": {},
   "outputs": [
    {
     "data": {
      "text/plain": [
       "0.0045800330209516734"
      ]
     },
     "execution_count": 10,
     "metadata": {},
     "output_type": "execute_result"
    }
   ],
   "source": [
    "interaction = np.transpose(np.mean(Xm) - np.mean(Xf)) @ np.array(Bm - Bf)\n",
    "interaction"
   ]
  },
  {
   "cell_type": "markdown",
   "metadata": {},
   "source": [
    "We are able to individually solve for the contribution from the coefficients. We calculate the contribution that comes from each variable for endowments in the cell below."
   ]
  },
  {
   "cell_type": "code",
   "execution_count": 11,
   "metadata": {},
   "outputs": [
    {
     "data": {
      "text/plain": [
       "MARST_Separated/divorced/spouse absent               -0.002493\n",
       "MARST_Single/never married                           -0.011740\n",
       "MARST_Widowed                                        -0.019391\n",
       "NATIVITY_Native-born                                  0.001543\n",
       "NATIVITY_Unknown/missing                              0.000001\n",
       "EDATTAIN_Secondary completed                          0.003757\n",
       "EDATTAIN_University completed                        -0.010440\n",
       "EMPSTAT_Inactive                                      0.047626\n",
       "EMPSTAT_Unemployed                                   -0.005272\n",
       "OCCISCO_Crafts and related trades workers             0.018959\n",
       "OCCISCO_Elementary occupations                       -0.005013\n",
       "OCCISCO_Legislators, senior officials and managers    0.023513\n",
       "OCCISCO_NIU (not in universe)                         0.006788\n",
       "OCCISCO_Plant and machine operators and assemblers   -0.004656\n",
       "OCCISCO_Professionals                                -0.009733\n",
       "OCCISCO_Service workers and shop and market sales     0.004779\n",
       "OCCISCO_Skilled agricultural and fishery workers     -0.000789\n",
       "OCCISCO_Technicians and associate professionals      -0.013582\n",
       "INDGEN_Construction                                   0.039138\n",
       "INDGEN_Education                                     -0.012373\n",
       "INDGEN_Electricity, gas and water                     0.006194\n",
       "INDGEN_Financial services and insurance              -0.008863\n",
       "INDGEN_Health and social work                        -0.045289\n",
       "INDGEN_Hotels and restaurants                        -0.003067\n",
       "INDGEN_Manufacturing                                  0.038340\n",
       "INDGEN_Mining                                         0.012074\n",
       "INDGEN_NIU (not in universe)                          0.006788\n",
       "INDGEN_Other services                                 0.000454\n",
       "INDGEN_Public administration and defense              0.003750\n",
       "INDGEN_Real estate and business services              0.011078\n",
       "INDGEN_Transportation, storage and communications     0.020811\n",
       "INDGEN_Wholesale and retail trade                     0.004051\n",
       "AGE                                                  -0.021220\n",
       "constant                                              0.000000\n",
       "dtype: float64"
      ]
     },
     "execution_count": 11,
     "metadata": {},
     "output_type": "execute_result"
    }
   ],
   "source": [
    "# variable contributions to endowments\n",
    "(np.mean(Xm) - np.mean(Xf)) * Bf"
   ]
  },
  {
   "cell_type": "markdown",
   "metadata": {},
   "source": [
    "#### Two-fold Decomposition\n",
    "\n",
    "$$Gap = Explained + Unexplained$$\n",
    "\n",
    "First we have to calculate our pooled model, from which we will get our $\\beta^*$."
   ]
  },
  {
   "cell_type": "code",
   "execution_count": 12,
   "metadata": {
    "collapsed": true
   },
   "outputs": [],
   "source": [
    "pooled_model = sm.OLS(df['INCTOT'], df.drop('INCTOT', axis=1)).fit()\n",
    "B_star = pooled_model.params.drop('female')"
   ]
  },
  {
   "cell_type": "markdown",
   "metadata": {},
   "source": [
    "$$E = (E[X_m]-E[X_f])\\beta^* $$"
   ]
  },
  {
   "cell_type": "code",
   "execution_count": 13,
   "metadata": {
    "scrolled": true
   },
   "outputs": [
    {
     "data": {
      "text/plain": [
       "0.078886205651931746"
      ]
     },
     "execution_count": 13,
     "metadata": {},
     "output_type": "execute_result"
    }
   ],
   "source": [
    "explained = np.transpose(np.mean(Xm) - np.mean(Xf)) @ np.array(B_star)\n",
    "explained"
   ]
  },
  {
   "cell_type": "markdown",
   "metadata": {},
   "source": [
    "$$U = E[X_m]'(\\beta_m-\\beta^*) + E[X_f]'(\\beta^*-\\beta_f) $$"
   ]
  },
  {
   "cell_type": "code",
   "execution_count": 14,
   "metadata": {},
   "outputs": [
    {
     "data": {
      "text/plain": [
       "0.2248704218367529"
      ]
     },
     "execution_count": 14,
     "metadata": {},
     "output_type": "execute_result"
    }
   ],
   "source": [
    "unexplained = np.transpose(np.mean(Xm)) @ np.array(Bm-B_star) + np.transpose(np.mean(Xf)) @ np.array(B_star-Bf)\n",
    "unexplained"
   ]
  },
  {
   "cell_type": "markdown",
   "metadata": {},
   "source": [
    "### Summary Tables"
   ]
  },
  {
   "cell_type": "markdown",
   "metadata": {},
   "source": [
    "In our package, we use the `statsmodels` implementation of `SimpleTable` to build our summary tables. We compare our results to Stata's outputs using the same data.\n",
    "\n",
    "First displayed is the three-fold decomposition, followed by the two-fold."
   ]
  },
  {
   "cell_type": "code",
   "execution_count": 15,
   "metadata": {},
   "outputs": [
    {
     "data": {
      "text/html": [
       "<table class=\"simpletable\">\n",
       "<caption>Blinder-Oaxaca Decomposition: Three-Fold</caption>\n",
       "<tr>\n",
       "        <td></td>              <th>Coef.</th>      \n",
       "</tr>\n",
       "<tr>\n",
       "  <th>group_1</th>      <td>10.234547702209856</td>\n",
       "</tr>\n",
       "<tr>\n",
       "  <th>group_2</th>       <td>9.930791074721899</td>\n",
       "</tr>\n",
       "<tr>\n",
       "  <th>difference</th>   <td>0.3037566274879566</td>\n",
       "</tr>\n",
       "<tr>\n",
       "  <th>endowments</th>     <td>0.0757229976341</td> \n",
       "</tr>\n",
       "<tr>\n",
       "  <th>coefficients</th>   <td>0.223453596834</td>  \n",
       "</tr>\n",
       "<tr>\n",
       "  <th>interaction</th>   <td>0.00458003302095</td> \n",
       "</tr>\n",
       "</table>"
      ],
      "text/plain": [
       "<class 'statsmodels.iolib.table.SimpleTable'>"
      ]
     },
     "execution_count": 15,
     "metadata": {},
     "output_type": "execute_result"
    }
   ],
   "source": [
    "mydata = [[male_mean], [female_mean], [gap], [endowments], [coefficients], [interaction]]\n",
    "myheaders = [\"Coef.\"]#, \"Std. Err.\", \"z\"]\n",
    "mystubs = [\"group_1\", \"group_2\", \"difference\", \"endowments\", \"coefficients\", \"interaction\"]\n",
    "tbl = SimpleTable(mydata, myheaders, mystubs, title=\"Blinder-Oaxaca Decomposition: Three-Fold\")\n",
    "tbl"
   ]
  },
  {
   "cell_type": "markdown",
   "metadata": {},
   "source": [
    "![](images/three-fold.png)"
   ]
  },
  {
   "cell_type": "code",
   "execution_count": 16,
   "metadata": {},
   "outputs": [
    {
     "data": {
      "text/html": [
       "<table class=\"simpletable\">\n",
       "<caption>Blinder-Oaxaca Decomposition: Pooled</caption>\n",
       "<tr>\n",
       "       <td></td>              <th>Coef.</th>      \n",
       "</tr>\n",
       "<tr>\n",
       "  <th>group_1</th>     <td>10.234547702209856</td>\n",
       "</tr>\n",
       "<tr>\n",
       "  <th>group_2</th>      <td>9.930791074721899</td>\n",
       "</tr>\n",
       "<tr>\n",
       "  <th>difference</th>  <td>0.3037566274879566</td>\n",
       "</tr>\n",
       "<tr>\n",
       "  <th>explained</th>     <td>0.0788862056519</td> \n",
       "</tr>\n",
       "<tr>\n",
       "  <th>unexplained</th>   <td>0.224870421837</td>  \n",
       "</tr>\n",
       "</table>"
      ],
      "text/plain": [
       "<class 'statsmodels.iolib.table.SimpleTable'>"
      ]
     },
     "execution_count": 16,
     "metadata": {},
     "output_type": "execute_result"
    }
   ],
   "source": [
    "mydata = [[male_mean], [female_mean], [gap], [explained], [unexplained]]\n",
    "myheaders = [\"Coef.\"]#, \"Std. Err.\", \"z\"]\n",
    "mystubs = [\"group_1\", \"group_2\", \"difference\", \"explained\", \"unexplained\"]\n",
    "tbl = SimpleTable(mydata, myheaders, mystubs, title=\"Blinder-Oaxaca Decomposition: Pooled\")\n",
    "tbl"
   ]
  },
  {
   "cell_type": "markdown",
   "metadata": {},
   "source": [
    "![](images/pooled.png)"
   ]
  },
  {
   "cell_type": "markdown",
   "metadata": {},
   "source": [
    "Below is an example of splitting up the components of the coefficients term from the three-fold decomposition."
   ]
  },
  {
   "cell_type": "code",
   "execution_count": 17,
   "metadata": {},
   "outputs": [
    {
     "data": {
      "text/html": [
       "<table class=\"simpletable\">\n",
       "<caption>Blinder-Oaxaca Decomposition - $C$</caption>\n",
       "<tr>\n",
       "                           <td></td>                                 <th>Coef.</th>      \n",
       "</tr>\n",
       "<tr>\n",
       "  <th>MARST_Separated/divorced/spouse absent</th>              <td>-0.0271724652886</td> \n",
       "</tr>\n",
       "<tr>\n",
       "  <th>MARST_Single/never married</th>                          <td>-0.0585922945188</td> \n",
       "</tr>\n",
       "<tr>\n",
       "  <th>MARST_Widowed</th>                                       <td>-0.0235621121724</td> \n",
       "</tr>\n",
       "<tr>\n",
       "  <th>NATIVITY_Native-born</th>                                 <td>0.101755124514</td>  \n",
       "</tr>\n",
       "<tr>\n",
       "  <th>NATIVITY_Unknown/missing</th>                           <td>-1.44134985957e-06</td>\n",
       "</tr>\n",
       "<tr>\n",
       "  <th>EDATTAIN_Secondary completed</th>                         <td>0.031518105719</td>  \n",
       "</tr>\n",
       "<tr>\n",
       "  <th>EDATTAIN_University completed</th>                       <td>0.00781105200052</td> \n",
       "</tr>\n",
       "<tr>\n",
       "  <th>EMPSTAT_Inactive</th>                                     <td>0.017192818169</td>  \n",
       "</tr>\n",
       "<tr>\n",
       "  <th>EMPSTAT_Unemployed</th>                                  <td>-0.00269069173622</td>\n",
       "</tr>\n",
       "<tr>\n",
       "  <th>OCCISCO_Crafts and related trades workers</th>           <td>0.000563035836238</td>\n",
       "</tr>\n",
       "<tr>\n",
       "  <th>OCCISCO_Elementary occupations</th>                      <td>0.00309331114616</td> \n",
       "</tr>\n",
       "<tr>\n",
       "  <th>OCCISCO_Legislators, senior officials and managers</th>  <td>-0.00412107548391</td>\n",
       "</tr>\n",
       "<tr>\n",
       "  <th>OCCISCO_NIU (not in universe)</th>                        <td>0.0070276638746</td> \n",
       "</tr>\n",
       "<tr>\n",
       "  <th>OCCISCO_Plant and machine operators and assemblers</th>  <td>0.00173214027584</td> \n",
       "</tr>\n",
       "<tr>\n",
       "  <th>OCCISCO_Professionals</th>                               <td>-0.00619837653409</td>\n",
       "</tr>\n",
       "<tr>\n",
       "  <th>OCCISCO_Service workers and shop and market sales</th>    <td>0.0176759673084</td> \n",
       "</tr>\n",
       "<tr>\n",
       "  <th>OCCISCO_Skilled agricultural and fishery workers</th>    <td>0.00103531229952</td> \n",
       "</tr>\n",
       "<tr>\n",
       "  <th>OCCISCO_Technicians and associate professionals</th>      <td>0.0149202940798</td> \n",
       "</tr>\n",
       "<tr>\n",
       "  <th>INDGEN_Construction</th>                                <td>-0.000472473310687</td>\n",
       "</tr>\n",
       "<tr>\n",
       "  <th>INDGEN_Education</th>                                    <td>-0.00316213143077</td>\n",
       "</tr>\n",
       "<tr>\n",
       "  <th>INDGEN_Electricity, gas and water</th>                  <td>-0.000152924645663</td>\n",
       "</tr>\n",
       "<tr>\n",
       "  <th>INDGEN_Financial services and insurance</th>             <td>-0.00138993192726</td>\n",
       "</tr>\n",
       "<tr>\n",
       "  <th>INDGEN_Health and social work</th>                       <td>0.00471712491362</td> \n",
       "</tr>\n",
       "<tr>\n",
       "  <th>INDGEN_Hotels and restaurants</th>                       <td>-0.00406021082359</td>\n",
       "</tr>\n",
       "<tr>\n",
       "  <th>INDGEN_Manufacturing</th>                                <td>-0.00073261726072</td>\n",
       "</tr>\n",
       "<tr>\n",
       "  <th>INDGEN_Mining</th>                                       <td>0.000556137497919</td>\n",
       "</tr>\n",
       "<tr>\n",
       "  <th>INDGEN_NIU (not in universe)</th>                        <td>0.00702766387466</td> \n",
       "</tr>\n",
       "<tr>\n",
       "  <th>INDGEN_Other services</th>                               <td>0.00247121930267</td> \n",
       "</tr>\n",
       "<tr>\n",
       "  <th>INDGEN_Public administration and defense</th>            <td>0.00248933298589</td> \n",
       "</tr>\n",
       "<tr>\n",
       "  <th>INDGEN_Real estate and business services</th>            <td>-0.00297929235766</td>\n",
       "</tr>\n",
       "<tr>\n",
       "  <th>INDGEN_Transportation, storage and communications</th>   <td>-0.00170768363467</td>\n",
       "</tr>\n",
       "<tr>\n",
       "  <th>INDGEN_Wholesale and retail trade</th>                    <td>0.0071842159954</td> \n",
       "</tr>\n",
       "<tr>\n",
       "  <th>AGE</th>                                                  <td>0.139463641907</td>  \n",
       "</tr>\n",
       "<tr>\n",
       "  <th>constant</th>                                            <td>-0.00778484239151</td>\n",
       "</tr>\n",
       "</table>"
      ],
      "text/plain": [
       "<class 'statsmodels.iolib.table.SimpleTable'>"
      ]
     },
     "execution_count": 17,
     "metadata": {},
     "output_type": "execute_result"
    }
   ],
   "source": [
    "cfs = np.mean(Xf) * (male_model.params - female_model.params)\n",
    "mydata = [[co] for co in cfs]\n",
    "myheaders = [ \"Coef.\"]#, \"Std. Err.\", \"z\"\n",
    "mystubs = list(cfs.index)\n",
    "tbl = SimpleTable(mydata, myheaders, mystubs, title=\"Blinder-Oaxaca Decomposition - $C$\")\n",
    "tbl"
   ]
  },
  {
   "cell_type": "markdown",
   "metadata": {},
   "source": [
    "### Implementation Addendum\n",
    "\n",
    "We are building on top of `statsmodels`, so the framework will easily translate to regression models outside of just OLS, including weighted least squares and [logistic models](http://www.econ.yale.edu/growth_pdf/cdp873.pdf). We are currently working on adding the package to the Python Package Index and thus making it pip installable. Like in Stata, there are a couple of different options of output available, including detailed models and varying standard error estimation methods. "
   ]
  },
  {
   "cell_type": "markdown",
   "metadata": {},
   "source": [
    "## 2. Data\n",
    "\n",
    "Census data was extracted from IPUMS for Brazil, Canada, Panama, Puerto Rico, and the United States.  Canada's data is from 2011 while the rest are from 2010.  Each observation represents a person who was surveyed.  Cleaning was performed using R and imported using the **ipumsr** package.  \n",
    "\n",
    "The following variables were selected from IPUMS: Person Weight, Age, Sex, Marital Status, Nativity, Educational Attainment, Employment Status, Occupation, Industry, and Total Income.  Only person's aged 16 and older were selected.  Total Income for Brazil and Panama was scaled by 12 to account for reporting differences (monthly vs yearly).  Total Income has also been log transformed and filtered to include only those with incomes greater than 0.  \n",
    "\n",
    "The goal for our analysis is to use Blinder-Oaxaca decomposition on different countries' gender income gaps to calculate the explained and unexplained differentials and compare these proportions with published measures of gender inequality. To accompish this, we will regress Total Income on gender and other demographic variables. We use the value of SEX to split the data into our two groups."
   ]
  },
  {
   "cell_type": "code",
   "execution_count": 18,
   "metadata": {},
   "outputs": [
    {
     "data": {
      "text/html": [
       "<div>\n",
       "<table border=\"1\" class=\"dataframe\">\n",
       "  <thead>\n",
       "    <tr style=\"text-align: right;\">\n",
       "      <th></th>\n",
       "      <th>COUNTRY</th>\n",
       "      <th>PERWT</th>\n",
       "      <th>AGE</th>\n",
       "      <th>SEX</th>\n",
       "      <th>MARST</th>\n",
       "      <th>NATIVITY</th>\n",
       "      <th>EDATTAIN</th>\n",
       "      <th>EMPSTAT</th>\n",
       "      <th>OCCISCO</th>\n",
       "      <th>INDGEN</th>\n",
       "      <th>INCTOT</th>\n",
       "    </tr>\n",
       "  </thead>\n",
       "  <tbody>\n",
       "    <tr>\n",
       "      <th>0</th>\n",
       "      <td>Brazil</td>\n",
       "      <td>18.54</td>\n",
       "      <td>22</td>\n",
       "      <td>Male</td>\n",
       "      <td>Married/in union</td>\n",
       "      <td>Native-born</td>\n",
       "      <td>Primary completed</td>\n",
       "      <td>Employed</td>\n",
       "      <td>Crafts and related trades workers</td>\n",
       "      <td>Manufacturing</td>\n",
       "      <td>9.392662</td>\n",
       "    </tr>\n",
       "    <tr>\n",
       "      <th>1</th>\n",
       "      <td>Brazil</td>\n",
       "      <td>20.23</td>\n",
       "      <td>54</td>\n",
       "      <td>Male</td>\n",
       "      <td>Married/in union</td>\n",
       "      <td>Native-born</td>\n",
       "      <td>Less than primary completed</td>\n",
       "      <td>Employed</td>\n",
       "      <td>Service workers and shop and market sales</td>\n",
       "      <td>Real estate and business services</td>\n",
       "      <td>9.035987</td>\n",
       "    </tr>\n",
       "    <tr>\n",
       "      <th>2</th>\n",
       "      <td>Brazil</td>\n",
       "      <td>20.23</td>\n",
       "      <td>44</td>\n",
       "      <td>Female</td>\n",
       "      <td>Married/in union</td>\n",
       "      <td>Native-born</td>\n",
       "      <td>Less than primary completed</td>\n",
       "      <td>Employed</td>\n",
       "      <td>Elementary occupations</td>\n",
       "      <td>Private household services</td>\n",
       "      <td>8.522778</td>\n",
       "    </tr>\n",
       "    <tr>\n",
       "      <th>3</th>\n",
       "      <td>Brazil</td>\n",
       "      <td>20.23</td>\n",
       "      <td>22</td>\n",
       "      <td>Female</td>\n",
       "      <td>Single/never married</td>\n",
       "      <td>Native-born</td>\n",
       "      <td>Less than primary completed</td>\n",
       "      <td>Inactive</td>\n",
       "      <td>NIU (not in universe)</td>\n",
       "      <td>NIU (not in universe)</td>\n",
       "      <td>8.719317</td>\n",
       "    </tr>\n",
       "    <tr>\n",
       "      <th>4</th>\n",
       "      <td>Brazil</td>\n",
       "      <td>20.23</td>\n",
       "      <td>26</td>\n",
       "      <td>Female</td>\n",
       "      <td>Single/never married</td>\n",
       "      <td>Native-born</td>\n",
       "      <td>Secondary completed</td>\n",
       "      <td>Employed</td>\n",
       "      <td>Technicians and associate professionals</td>\n",
       "      <td>Health and social work</td>\n",
       "      <td>8.961879</td>\n",
       "    </tr>\n",
       "  </tbody>\n",
       "</table>\n",
       "</div>"
      ],
      "text/plain": [
       "  COUNTRY  PERWT  AGE     SEX                 MARST     NATIVITY  \\\n",
       "0  Brazil  18.54   22    Male      Married/in union  Native-born   \n",
       "1  Brazil  20.23   54    Male      Married/in union  Native-born   \n",
       "2  Brazil  20.23   44  Female      Married/in union  Native-born   \n",
       "3  Brazil  20.23   22  Female  Single/never married  Native-born   \n",
       "4  Brazil  20.23   26  Female  Single/never married  Native-born   \n",
       "\n",
       "                      EDATTAIN   EMPSTAT  \\\n",
       "0            Primary completed  Employed   \n",
       "1  Less than primary completed  Employed   \n",
       "2  Less than primary completed  Employed   \n",
       "3  Less than primary completed  Inactive   \n",
       "4          Secondary completed  Employed   \n",
       "\n",
       "                                     OCCISCO  \\\n",
       "0          Crafts and related trades workers   \n",
       "1  Service workers and shop and market sales   \n",
       "2                     Elementary occupations   \n",
       "3                      NIU (not in universe)   \n",
       "4    Technicians and associate professionals   \n",
       "\n",
       "                              INDGEN    INCTOT  \n",
       "0                      Manufacturing  9.392662  \n",
       "1  Real estate and business services  9.035987  \n",
       "2         Private household services  8.522778  \n",
       "3              NIU (not in universe)  8.719317  \n",
       "4             Health and social work  8.961879  "
      ]
     },
     "execution_count": 18,
     "metadata": {},
     "output_type": "execute_result"
    }
   ],
   "source": [
    "Brazil = pd.read_csv('data/Brazil.csv')\n",
    "Canada = pd.read_csv('data/Canada.csv')\n",
    "Panama = pd.read_csv('data/Panama.csv')\n",
    "PuertoRico = pd.read_csv('data/PuertoRico.csv')\n",
    "UnitedStates = pd.read_csv('data/UnitedStates.csv')\n",
    "Brazil.head()"
   ]
  },
  {
   "cell_type": "code",
   "execution_count": 19,
   "metadata": {
    "collapsed": true
   },
   "outputs": [],
   "source": [
    "countries = [Brazil, Canada, Panama, PuertoRico, UnitedStates]\n",
    "countryNames = [\"Brazil\", \"Canada\", \"Panama\", \"PuertoRico\", \"UnitedStates\"]"
   ]
  },
  {
   "cell_type": "markdown",
   "metadata": {},
   "source": [
    "Below we plot histograms of age for each of our countries. Brazil and Panama appear to have younger populations since their ages are skewed right.  Canada, Puerto Rico, and the United States are more centered around age 50-60.  There don't appear to be any drastic differences in age for males and females in each country, though women tend to live slightly longer.  Older people would be expected to earn more because they have more experience.  Although our Age variable doesn't fully reflect a person's experience, the fact that there aren't gender age inequalities is helpful for understanding our analysis. "
   ]
  },
  {
   "cell_type": "code",
   "execution_count": 20,
   "metadata": {
    "scrolled": false
   },
   "outputs": [
    {
     "data": {
      "image/png": "[encoded data removed]",
      "text/plain": [
       "<matplotlib.figure.Figure at 0x104080d68>"
      ]
     },
     "metadata": {},
     "output_type": "display_data"
    },
    {
     "data": {
      "image/png": "[encoded data removed]",
      "text/plain": [
       "<matplotlib.figure.Figure at 0x104927eb8>"
      ]
     },
     "metadata": {},
     "output_type": "display_data"
    },
    {
     "data": {
      "image/png": "[encoded data removed]",
      "text/plain": [
       "<matplotlib.figure.Figure at 0x11681df98>"
      ]
     },
     "metadata": {},
     "output_type": "display_data"
    },
    {
     "data": {
      "image/png": "[encoded data removed]",
      "text/plain": [
       "<matplotlib.figure.Figure at 0x1169550b8>"
      ]
     },
     "metadata": {},
     "output_type": "display_data"
    },
    {
     "data": {
      "image/png": "[encoded data removed]",
      "text/plain": [
       "<matplotlib.figure.Figure at 0x1174e2198>"
      ]
     },
     "metadata": {},
     "output_type": "display_data"
    }
   ],
   "source": [
    "bins = np.arange(16, 100, 5)\n",
    "for i in range(0, 5):\n",
    "    plt.figure(i)\n",
    "    plt.hist(data=countries[i][countries[i][\"SEX\"] == \"Male\"], x=\"AGE\", normed=True, alpha=0.3, label=\"Male\", bins=bins)\n",
    "    plt.hist(data=countries[i][countries[i][\"SEX\"] == \"Female\"], x=\"AGE\", normed=True, alpha=0.3, label=\"Female\", bins=bins)\n",
    "    plt.title(countryNames[i])\n",
    "    plt.xlabel('Age (years)')\n",
    "    plt.ylabel('Density')\n",
    "    plt.ylim(0, .025)\n",
    "    plt.legend()"
   ]
  },
  {
   "cell_type": "markdown",
   "metadata": {},
   "source": [
    "Each country's INCTOT variable was reported in the currency of that country.  Looking at the histograms below, Male and Female incomes are generally centered around the same values, though for all of our countries, men seem to be slightly shifted right, with the greatest difference coming from Panama. If we think that there is no discrimination, and the difference in wages is just from preferences, we would expect this should be reflected in the difference in industry choice in our regression model.\n",
    "\n",
    "Given that these currency values are local and not transformed to a standard value, the different shifts along the x-axis do not mean much to us. This doesn't matter though, because we are only making intra-country comparisons."
   ]
  },
  {
   "cell_type": "code",
   "execution_count": 21,
   "metadata": {
    "scrolled": false
   },
   "outputs": [
    {
     "data": {
      "image/png": "[encoded data removed]",
      "text/plain": [
       "<matplotlib.figure.Figure at 0x104080cc0>"
      ]
     },
     "metadata": {},
     "output_type": "display_data"
    },
    {
     "data": {
      "image/png": "[encoded data removed]",
      "text/plain": [
       "<matplotlib.figure.Figure at 0x1184e6f28>"
      ]
     },
     "metadata": {},
     "output_type": "display_data"
    },
    {
     "data": {
      "image/png": "[encoded data removed]",
      "text/plain": [
       "<matplotlib.figure.Figure at 0x11b449358>"
      ]
     },
     "metadata": {},
     "output_type": "display_data"
    },
    {
     "data": {
      "image/png": "[encoded data removed]",
      "text/plain": [
       "<matplotlib.figure.Figure at 0x1174129b0>"
      ]
     },
     "metadata": {},
     "output_type": "display_data"
    },
    {
     "data": {
      "image/png": "[encoded data removed]",
      "text/plain": [
       "<matplotlib.figure.Figure at 0x1172b84e0>"
      ]
     },
     "metadata": {},
     "output_type": "display_data"
    }
   ],
   "source": [
    "bins = np.arange(0,14,.5)\n",
    "for i in range(0, 5):\n",
    "    plt.figure(i)\n",
    "    plt.hist(data=countries[i][countries[i][\"SEX\"] == \"Male\"], x=\"INCTOT\", normed=True, alpha=0.3, label=\"Male\", bins=bins)\n",
    "    plt.hist(data=countries[i][countries[i][\"SEX\"] == \"Female\"], x=\"INCTOT\", normed=True, alpha=0.3, label=\"Female\", bins=bins)\n",
    "    plt.title(countryNames[i])\n",
    "    plt.ylim(0, .5)\n",
    "    plt.xlabel('Log Wage (local currency)')\n",
    "    plt.ylabel('Density')\n",
    "    plt.legend()"
   ]
  },
  {
   "cell_type": "markdown",
   "metadata": {},
   "source": [
    "Next, this big block of code is used to perform some crosstabulations for different categorical variables."
   ]
  },
  {
   "cell_type": "code",
   "execution_count": 22,
   "metadata": {
    "collapsed": true
   },
   "outputs": [],
   "source": [
    "ctab1 = {}\n",
    "for i in range(0, 5):\n",
    "    ctab1[countryNames[i]]= pd.crosstab(\n",
    "        index=countries[i]['EDATTAIN'],\n",
    "        columns=countries[i]['SEX'],\n",
    "        values=countries[i]['INCTOT'],\n",
    "        aggfunc=np.mean\n",
    "    ).round(2)\n",
    "    ctab1[countryNames[i]][\"Difference\"] = ctab1[countryNames[i]][\"Male\"] - ctab1[countryNames[i]][\"Female\"]\n",
    "    \n",
    "ctab2 = {}\n",
    "for i in range(0, 5):\n",
    "    ctab2[countryNames[i]]= pd.crosstab(\n",
    "        index=countries[i]['EDATTAIN'],\n",
    "        columns=countries[i]['SEX'],\n",
    "        values=countries[i]['INCTOT'],\n",
    "        aggfunc=np.size\n",
    "    ).apply(lambda x: x/np.sum(x)).round(2)\n",
    "    ctab2[countryNames[i]][\"Difference\"] = ctab2[countryNames[i]][\"Male\"] - ctab2[countryNames[i]][\"Female\"]\n",
    "\n",
    "ctab3 = {}\n",
    "for i in range(0, 5):\n",
    "    ctab3[countryNames[i]]= pd.crosstab(\n",
    "        index=countries[i]['INDGEN'],\n",
    "        columns=countries[i]['SEX'],\n",
    "        values=countries[i]['INCTOT'],\n",
    "        aggfunc=np.mean\n",
    "    ).round(2)\n",
    "    ctab3[countryNames[i]][\"Difference\"] = ctab3[countryNames[i]][\"Male\"] - ctab3[countryNames[i]][\"Female\"]\n",
    "    ctab3[countryNames[i]] = ctab3[countryNames[i]].sort_values(\"Difference\", ascending=False)\n",
    "    \n",
    "ctab4 = {}\n",
    "for i in range(0, 5):\n",
    "    ctab4[countryNames[i]]= pd.crosstab(\n",
    "        index=countries[i]['INDGEN'],\n",
    "        columns=countries[i]['SEX'],\n",
    "        values=countries[i]['INCTOT'],\n",
    "        aggfunc=np.size\n",
    "    ).apply(lambda x: x/np.sum(x)).round(2)\n",
    "    ctab4[countryNames[i]][\"Difference\"] = ctab4[countryNames[i]][\"Male\"] - ctab4[countryNames[i]][\"Female\"]\n",
    "    ctab4[countryNames[i]] = ctab4[countryNames[i]].reindex(ctab3[countryNames[i]].index)"
   ]
  },
  {
   "cell_type": "markdown",
   "metadata": {},
   "source": [
    "Across each country, we can see that average total income increases with education level.  Among education levels, males tend to have higher incomes.  "
   ]
  },
  {
   "cell_type": "code",
   "execution_count": 23,
   "metadata": {},
   "outputs": [
    {
     "data": {
      "text/plain": [
       "'Brazil'"
      ]
     },
     "metadata": {},
     "output_type": "display_data"
    },
    {
     "data": {
      "text/html": [
       "<div>\n",
       "<table border=\"1\" class=\"dataframe\">\n",
       "  <thead>\n",
       "    <tr style=\"text-align: right;\">\n",
       "      <th>SEX</th>\n",
       "      <th>Female</th>\n",
       "      <th>Male</th>\n",
       "      <th>Difference</th>\n",
       "    </tr>\n",
       "    <tr>\n",
       "      <th>EDATTAIN</th>\n",
       "      <th></th>\n",
       "      <th></th>\n",
       "      <th></th>\n",
       "    </tr>\n",
       "  </thead>\n",
       "  <tbody>\n",
       "    <tr>\n",
       "      <th>Primary completed</th>\n",
       "      <td>8.47</td>\n",
       "      <td>9.07</td>\n",
       "      <td>0.60</td>\n",
       "    </tr>\n",
       "    <tr>\n",
       "      <th>University completed</th>\n",
       "      <td>9.94</td>\n",
       "      <td>10.46</td>\n",
       "      <td>0.52</td>\n",
       "    </tr>\n",
       "    <tr>\n",
       "      <th>Secondary completed</th>\n",
       "      <td>8.97</td>\n",
       "      <td>9.46</td>\n",
       "      <td>0.49</td>\n",
       "    </tr>\n",
       "    <tr>\n",
       "      <th>Less than primary completed</th>\n",
       "      <td>8.46</td>\n",
       "      <td>8.86</td>\n",
       "      <td>0.40</td>\n",
       "    </tr>\n",
       "  </tbody>\n",
       "</table>\n",
       "</div>"
      ],
      "text/plain": [
       "SEX                          Female   Male  Difference\n",
       "EDATTAIN                                              \n",
       "Primary completed              8.47   9.07        0.60\n",
       "University completed           9.94  10.46        0.52\n",
       "Secondary completed            8.97   9.46        0.49\n",
       "Less than primary completed    8.46   8.86        0.40"
      ]
     },
     "metadata": {},
     "output_type": "display_data"
    },
    {
     "data": {
      "text/plain": [
       "'Canada'"
      ]
     },
     "metadata": {},
     "output_type": "display_data"
    },
    {
     "data": {
      "text/html": [
       "<div>\n",
       "<table border=\"1\" class=\"dataframe\">\n",
       "  <thead>\n",
       "    <tr style=\"text-align: right;\">\n",
       "      <th>SEX</th>\n",
       "      <th>Female</th>\n",
       "      <th>Male</th>\n",
       "      <th>Difference</th>\n",
       "    </tr>\n",
       "    <tr>\n",
       "      <th>EDATTAIN</th>\n",
       "      <th></th>\n",
       "      <th></th>\n",
       "      <th></th>\n",
       "    </tr>\n",
       "  </thead>\n",
       "  <tbody>\n",
       "    <tr>\n",
       "      <th>Secondary completed</th>\n",
       "      <td>9.86</td>\n",
       "      <td>10.19</td>\n",
       "      <td>0.33</td>\n",
       "    </tr>\n",
       "    <tr>\n",
       "      <th>University completed</th>\n",
       "      <td>10.34</td>\n",
       "      <td>10.65</td>\n",
       "      <td>0.31</td>\n",
       "    </tr>\n",
       "    <tr>\n",
       "      <th>Less than primary completed</th>\n",
       "      <td>9.46</td>\n",
       "      <td>9.73</td>\n",
       "      <td>0.27</td>\n",
       "    </tr>\n",
       "  </tbody>\n",
       "</table>\n",
       "</div>"
      ],
      "text/plain": [
       "SEX                          Female   Male  Difference\n",
       "EDATTAIN                                              \n",
       "Secondary completed            9.86  10.19        0.33\n",
       "University completed          10.34  10.65        0.31\n",
       "Less than primary completed    9.46   9.73        0.27"
      ]
     },
     "metadata": {},
     "output_type": "display_data"
    },
    {
     "data": {
      "text/plain": [
       "'Panama'"
      ]
     },
     "metadata": {},
     "output_type": "display_data"
    },
    {
     "data": {
      "text/html": [
       "<div>\n",
       "<table border=\"1\" class=\"dataframe\">\n",
       "  <thead>\n",
       "    <tr style=\"text-align: right;\">\n",
       "      <th>SEX</th>\n",
       "      <th>Female</th>\n",
       "      <th>Male</th>\n",
       "      <th>Difference</th>\n",
       "    </tr>\n",
       "    <tr>\n",
       "      <th>EDATTAIN</th>\n",
       "      <th></th>\n",
       "      <th></th>\n",
       "      <th></th>\n",
       "    </tr>\n",
       "  </thead>\n",
       "  <tbody>\n",
       "    <tr>\n",
       "      <th>Less than primary completed</th>\n",
       "      <td>7.20</td>\n",
       "      <td>7.89</td>\n",
       "      <td>0.69</td>\n",
       "    </tr>\n",
       "    <tr>\n",
       "      <th>Primary completed</th>\n",
       "      <td>7.75</td>\n",
       "      <td>8.32</td>\n",
       "      <td>0.57</td>\n",
       "    </tr>\n",
       "    <tr>\n",
       "      <th>University completed</th>\n",
       "      <td>9.27</td>\n",
       "      <td>9.62</td>\n",
       "      <td>0.35</td>\n",
       "    </tr>\n",
       "    <tr>\n",
       "      <th>Secondary completed</th>\n",
       "      <td>8.55</td>\n",
       "      <td>8.82</td>\n",
       "      <td>0.27</td>\n",
       "    </tr>\n",
       "    <tr>\n",
       "      <th>Unknown</th>\n",
       "      <td>10.80</td>\n",
       "      <td>10.88</td>\n",
       "      <td>0.08</td>\n",
       "    </tr>\n",
       "  </tbody>\n",
       "</table>\n",
       "</div>"
      ],
      "text/plain": [
       "SEX                          Female   Male  Difference\n",
       "EDATTAIN                                              \n",
       "Less than primary completed    7.20   7.89        0.69\n",
       "Primary completed              7.75   8.32        0.57\n",
       "University completed           9.27   9.62        0.35\n",
       "Secondary completed            8.55   8.82        0.27\n",
       "Unknown                       10.80  10.88        0.08"
      ]
     },
     "metadata": {},
     "output_type": "display_data"
    },
    {
     "data": {
      "text/plain": [
       "'PuertoRico'"
      ]
     },
     "metadata": {},
     "output_type": "display_data"
    },
    {
     "data": {
      "text/html": [
       "<div>\n",
       "<table border=\"1\" class=\"dataframe\">\n",
       "  <thead>\n",
       "    <tr style=\"text-align: right;\">\n",
       "      <th>SEX</th>\n",
       "      <th>Female</th>\n",
       "      <th>Male</th>\n",
       "      <th>Difference</th>\n",
       "    </tr>\n",
       "    <tr>\n",
       "      <th>EDATTAIN</th>\n",
       "      <th></th>\n",
       "      <th></th>\n",
       "      <th></th>\n",
       "    </tr>\n",
       "  </thead>\n",
       "  <tbody>\n",
       "    <tr>\n",
       "      <th>Primary completed</th>\n",
       "      <td>8.49</td>\n",
       "      <td>8.93</td>\n",
       "      <td>0.44</td>\n",
       "    </tr>\n",
       "    <tr>\n",
       "      <th>Secondary completed</th>\n",
       "      <td>9.04</td>\n",
       "      <td>9.38</td>\n",
       "      <td>0.34</td>\n",
       "    </tr>\n",
       "    <tr>\n",
       "      <th>University completed</th>\n",
       "      <td>9.93</td>\n",
       "      <td>10.25</td>\n",
       "      <td>0.32</td>\n",
       "    </tr>\n",
       "    <tr>\n",
       "      <th>Less than primary completed</th>\n",
       "      <td>8.54</td>\n",
       "      <td>8.77</td>\n",
       "      <td>0.23</td>\n",
       "    </tr>\n",
       "  </tbody>\n",
       "</table>\n",
       "</div>"
      ],
      "text/plain": [
       "SEX                          Female   Male  Difference\n",
       "EDATTAIN                                              \n",
       "Primary completed              8.49   8.93        0.44\n",
       "Secondary completed            9.04   9.38        0.34\n",
       "University completed           9.93  10.25        0.32\n",
       "Less than primary completed    8.54   8.77        0.23"
      ]
     },
     "metadata": {},
     "output_type": "display_data"
    },
    {
     "data": {
      "text/plain": [
       "'UnitedStates'"
      ]
     },
     "metadata": {},
     "output_type": "display_data"
    },
    {
     "data": {
      "text/html": [
       "<div>\n",
       "<table border=\"1\" class=\"dataframe\">\n",
       "  <thead>\n",
       "    <tr style=\"text-align: right;\">\n",
       "      <th>SEX</th>\n",
       "      <th>Female</th>\n",
       "      <th>Male</th>\n",
       "      <th>Difference</th>\n",
       "    </tr>\n",
       "    <tr>\n",
       "      <th>EDATTAIN</th>\n",
       "      <th></th>\n",
       "      <th></th>\n",
       "      <th></th>\n",
       "    </tr>\n",
       "  </thead>\n",
       "  <tbody>\n",
       "    <tr>\n",
       "      <th>University completed</th>\n",
       "      <td>10.38</td>\n",
       "      <td>10.92</td>\n",
       "      <td>0.54</td>\n",
       "    </tr>\n",
       "    <tr>\n",
       "      <th>Secondary completed</th>\n",
       "      <td>9.64</td>\n",
       "      <td>10.07</td>\n",
       "      <td>0.43</td>\n",
       "    </tr>\n",
       "    <tr>\n",
       "      <th>Less than primary completed</th>\n",
       "      <td>9.16</td>\n",
       "      <td>9.56</td>\n",
       "      <td>0.40</td>\n",
       "    </tr>\n",
       "    <tr>\n",
       "      <th>Primary completed</th>\n",
       "      <td>8.93</td>\n",
       "      <td>9.30</td>\n",
       "      <td>0.37</td>\n",
       "    </tr>\n",
       "  </tbody>\n",
       "</table>\n",
       "</div>"
      ],
      "text/plain": [
       "SEX                          Female   Male  Difference\n",
       "EDATTAIN                                              \n",
       "University completed          10.38  10.92        0.54\n",
       "Secondary completed            9.64  10.07        0.43\n",
       "Less than primary completed    9.16   9.56        0.40\n",
       "Primary completed              8.93   9.30        0.37"
      ]
     },
     "metadata": {},
     "output_type": "display_data"
    }
   ],
   "source": [
    "for i in range(0, 5):\n",
    "    display(countryNames[i], ctab1[countryNames[i]].reindex(ctab1[countryNames[i]].Difference.abs().sort_values(ascending=False).index))"
   ]
  },
  {
   "cell_type": "markdown",
   "metadata": {},
   "source": [
    "This is interesting because when looking at the percentage of each gender at each education level, women complete University at similar or greater rates than men."
   ]
  },
  {
   "cell_type": "code",
   "execution_count": 24,
   "metadata": {},
   "outputs": [
    {
     "data": {
      "text/plain": [
       "'Brazil'"
      ]
     },
     "metadata": {},
     "output_type": "display_data"
    },
    {
     "data": {
      "text/html": [
       "<div>\n",
       "<table border=\"1\" class=\"dataframe\">\n",
       "  <thead>\n",
       "    <tr style=\"text-align: right;\">\n",
       "      <th>SEX</th>\n",
       "      <th>Female</th>\n",
       "      <th>Male</th>\n",
       "      <th>Difference</th>\n",
       "    </tr>\n",
       "    <tr>\n",
       "      <th>EDATTAIN</th>\n",
       "      <th></th>\n",
       "      <th></th>\n",
       "      <th></th>\n",
       "    </tr>\n",
       "  </thead>\n",
       "  <tbody>\n",
       "    <tr>\n",
       "      <th>Primary completed</th>\n",
       "      <td>0.23</td>\n",
       "      <td>0.28</td>\n",
       "      <td>0.05</td>\n",
       "    </tr>\n",
       "    <tr>\n",
       "      <th>University completed</th>\n",
       "      <td>0.11</td>\n",
       "      <td>0.07</td>\n",
       "      <td>-0.04</td>\n",
       "    </tr>\n",
       "    <tr>\n",
       "      <th>Secondary completed</th>\n",
       "      <td>0.25</td>\n",
       "      <td>0.24</td>\n",
       "      <td>-0.01</td>\n",
       "    </tr>\n",
       "    <tr>\n",
       "      <th>Less than primary completed</th>\n",
       "      <td>0.41</td>\n",
       "      <td>0.41</td>\n",
       "      <td>0.00</td>\n",
       "    </tr>\n",
       "  </tbody>\n",
       "</table>\n",
       "</div>"
      ],
      "text/plain": [
       "SEX                          Female  Male  Difference\n",
       "EDATTAIN                                             \n",
       "Primary completed              0.23  0.28        0.05\n",
       "University completed           0.11  0.07       -0.04\n",
       "Secondary completed            0.25  0.24       -0.01\n",
       "Less than primary completed    0.41  0.41        0.00"
      ]
     },
     "metadata": {},
     "output_type": "display_data"
    },
    {
     "data": {
      "text/plain": [
       "'Canada'"
      ]
     },
     "metadata": {},
     "output_type": "display_data"
    },
    {
     "data": {
      "text/html": [
       "<div>\n",
       "<table border=\"1\" class=\"dataframe\">\n",
       "  <thead>\n",
       "    <tr style=\"text-align: right;\">\n",
       "      <th>SEX</th>\n",
       "      <th>Female</th>\n",
       "      <th>Male</th>\n",
       "      <th>Difference</th>\n",
       "    </tr>\n",
       "    <tr>\n",
       "      <th>EDATTAIN</th>\n",
       "      <th></th>\n",
       "      <th></th>\n",
       "      <th></th>\n",
       "    </tr>\n",
       "  </thead>\n",
       "  <tbody>\n",
       "    <tr>\n",
       "      <th>University completed</th>\n",
       "      <td>0.28</td>\n",
       "      <td>0.26</td>\n",
       "      <td>-0.02</td>\n",
       "    </tr>\n",
       "    <tr>\n",
       "      <th>Secondary completed</th>\n",
       "      <td>0.55</td>\n",
       "      <td>0.57</td>\n",
       "      <td>0.02</td>\n",
       "    </tr>\n",
       "    <tr>\n",
       "      <th>Less than primary completed</th>\n",
       "      <td>0.17</td>\n",
       "      <td>0.17</td>\n",
       "      <td>0.00</td>\n",
       "    </tr>\n",
       "  </tbody>\n",
       "</table>\n",
       "</div>"
      ],
      "text/plain": [
       "SEX                          Female  Male  Difference\n",
       "EDATTAIN                                             \n",
       "University completed           0.28  0.26       -0.02\n",
       "Secondary completed            0.55  0.57        0.02\n",
       "Less than primary completed    0.17  0.17        0.00"
      ]
     },
     "metadata": {},
     "output_type": "display_data"
    },
    {
     "data": {
      "text/plain": [
       "'Panama'"
      ]
     },
     "metadata": {},
     "output_type": "display_data"
    },
    {
     "data": {
      "text/html": [
       "<div>\n",
       "<table border=\"1\" class=\"dataframe\">\n",
       "  <thead>\n",
       "    <tr style=\"text-align: right;\">\n",
       "      <th>SEX</th>\n",
       "      <th>Female</th>\n",
       "      <th>Male</th>\n",
       "      <th>Difference</th>\n",
       "    </tr>\n",
       "    <tr>\n",
       "      <th>EDATTAIN</th>\n",
       "      <th></th>\n",
       "      <th></th>\n",
       "      <th></th>\n",
       "    </tr>\n",
       "  </thead>\n",
       "  <tbody>\n",
       "    <tr>\n",
       "      <th>Primary completed</th>\n",
       "      <td>0.32</td>\n",
       "      <td>0.44</td>\n",
       "      <td>0.12</td>\n",
       "    </tr>\n",
       "    <tr>\n",
       "      <th>University completed</th>\n",
       "      <td>0.23</td>\n",
       "      <td>0.12</td>\n",
       "      <td>-0.11</td>\n",
       "    </tr>\n",
       "    <tr>\n",
       "      <th>Secondary completed</th>\n",
       "      <td>0.33</td>\n",
       "      <td>0.29</td>\n",
       "      <td>-0.04</td>\n",
       "    </tr>\n",
       "    <tr>\n",
       "      <th>Less than primary completed</th>\n",
       "      <td>0.12</td>\n",
       "      <td>0.14</td>\n",
       "      <td>0.02</td>\n",
       "    </tr>\n",
       "    <tr>\n",
       "      <th>Unknown</th>\n",
       "      <td>0.00</td>\n",
       "      <td>0.00</td>\n",
       "      <td>0.00</td>\n",
       "    </tr>\n",
       "  </tbody>\n",
       "</table>\n",
       "</div>"
      ],
      "text/plain": [
       "SEX                          Female  Male  Difference\n",
       "EDATTAIN                                             \n",
       "Primary completed              0.32  0.44        0.12\n",
       "University completed           0.23  0.12       -0.11\n",
       "Secondary completed            0.33  0.29       -0.04\n",
       "Less than primary completed    0.12  0.14        0.02\n",
       "Unknown                        0.00  0.00        0.00"
      ]
     },
     "metadata": {},
     "output_type": "display_data"
    },
    {
     "data": {
      "text/plain": [
       "'PuertoRico'"
      ]
     },
     "metadata": {},
     "output_type": "display_data"
    },
    {
     "data": {
      "text/html": [
       "<div>\n",
       "<table border=\"1\" class=\"dataframe\">\n",
       "  <thead>\n",
       "    <tr style=\"text-align: right;\">\n",
       "      <th>SEX</th>\n",
       "      <th>Female</th>\n",
       "      <th>Male</th>\n",
       "      <th>Difference</th>\n",
       "    </tr>\n",
       "    <tr>\n",
       "      <th>EDATTAIN</th>\n",
       "      <th></th>\n",
       "      <th></th>\n",
       "      <th></th>\n",
       "    </tr>\n",
       "  </thead>\n",
       "  <tbody>\n",
       "    <tr>\n",
       "      <th>University completed</th>\n",
       "      <td>0.28</td>\n",
       "      <td>0.19</td>\n",
       "      <td>-0.09</td>\n",
       "    </tr>\n",
       "    <tr>\n",
       "      <th>Secondary completed</th>\n",
       "      <td>0.46</td>\n",
       "      <td>0.52</td>\n",
       "      <td>0.06</td>\n",
       "    </tr>\n",
       "    <tr>\n",
       "      <th>Primary completed</th>\n",
       "      <td>0.15</td>\n",
       "      <td>0.18</td>\n",
       "      <td>0.03</td>\n",
       "    </tr>\n",
       "    <tr>\n",
       "      <th>Less than primary completed</th>\n",
       "      <td>0.12</td>\n",
       "      <td>0.11</td>\n",
       "      <td>-0.01</td>\n",
       "    </tr>\n",
       "  </tbody>\n",
       "</table>\n",
       "</div>"
      ],
      "text/plain": [
       "SEX                          Female  Male  Difference\n",
       "EDATTAIN                                             \n",
       "University completed           0.28  0.19       -0.09\n",
       "Secondary completed            0.46  0.52        0.06\n",
       "Primary completed              0.15  0.18        0.03\n",
       "Less than primary completed    0.12  0.11       -0.01"
      ]
     },
     "metadata": {},
     "output_type": "display_data"
    },
    {
     "data": {
      "text/plain": [
       "'UnitedStates'"
      ]
     },
     "metadata": {},
     "output_type": "display_data"
    },
    {
     "data": {
      "text/html": [
       "<div>\n",
       "<table border=\"1\" class=\"dataframe\">\n",
       "  <thead>\n",
       "    <tr style=\"text-align: right;\">\n",
       "      <th>SEX</th>\n",
       "      <th>Female</th>\n",
       "      <th>Male</th>\n",
       "      <th>Difference</th>\n",
       "    </tr>\n",
       "    <tr>\n",
       "      <th>EDATTAIN</th>\n",
       "      <th></th>\n",
       "      <th></th>\n",
       "      <th></th>\n",
       "    </tr>\n",
       "  </thead>\n",
       "  <tbody>\n",
       "    <tr>\n",
       "      <th>Secondary completed</th>\n",
       "      <td>0.61</td>\n",
       "      <td>0.59</td>\n",
       "      <td>-0.02</td>\n",
       "    </tr>\n",
       "    <tr>\n",
       "      <th>Primary completed</th>\n",
       "      <td>0.09</td>\n",
       "      <td>0.11</td>\n",
       "      <td>0.02</td>\n",
       "    </tr>\n",
       "    <tr>\n",
       "      <th>University completed</th>\n",
       "      <td>0.27</td>\n",
       "      <td>0.28</td>\n",
       "      <td>0.01</td>\n",
       "    </tr>\n",
       "    <tr>\n",
       "      <th>Less than primary completed</th>\n",
       "      <td>0.02</td>\n",
       "      <td>0.02</td>\n",
       "      <td>0.00</td>\n",
       "    </tr>\n",
       "  </tbody>\n",
       "</table>\n",
       "</div>"
      ],
      "text/plain": [
       "SEX                          Female  Male  Difference\n",
       "EDATTAIN                                             \n",
       "Secondary completed            0.61  0.59       -0.02\n",
       "Primary completed              0.09  0.11        0.02\n",
       "University completed           0.27  0.28        0.01\n",
       "Less than primary completed    0.02  0.02        0.00"
      ]
     },
     "metadata": {},
     "output_type": "display_data"
    }
   ],
   "source": [
    "for i in range(0, 5):\n",
    "    display(countryNames[i], ctab2[countryNames[i]].reindex(ctab2[countryNames[i]].Difference.abs().sort_values(ascending=False).index))"
   ]
  },
  {
   "cell_type": "markdown",
   "metadata": {},
   "source": [
    "Across industries, Males tend to earn more than Females.  The tables have been sorted by the difference in Male and Female incomes."
   ]
  },
  {
   "cell_type": "code",
   "execution_count": 25,
   "metadata": {
    "scrolled": false
   },
   "outputs": [
    {
     "data": {
      "text/plain": [
       "'Brazil'"
      ]
     },
     "metadata": {},
     "output_type": "display_data"
    },
    {
     "data": {
      "text/html": [
       "<div>\n",
       "<table border=\"1\" class=\"dataframe\">\n",
       "  <thead>\n",
       "    <tr style=\"text-align: right;\">\n",
       "      <th>SEX</th>\n",
       "      <th>Female</th>\n",
       "      <th>Male</th>\n",
       "      <th>Difference</th>\n",
       "    </tr>\n",
       "    <tr>\n",
       "      <th>INDGEN</th>\n",
       "      <th></th>\n",
       "      <th></th>\n",
       "      <th></th>\n",
       "    </tr>\n",
       "  </thead>\n",
       "  <tbody>\n",
       "    <tr>\n",
       "      <th>Other industry, n.e.c.</th>\n",
       "      <td>10.53</td>\n",
       "      <td>9.76</td>\n",
       "      <td>-0.77</td>\n",
       "    </tr>\n",
       "    <tr>\n",
       "      <th>NIU (not in universe)</th>\n",
       "      <td>8.35</td>\n",
       "      <td>8.96</td>\n",
       "      <td>0.61</td>\n",
       "    </tr>\n",
       "    <tr>\n",
       "      <th>Agriculture, fishing, and forestry</th>\n",
       "      <td>8.32</td>\n",
       "      <td>8.71</td>\n",
       "      <td>0.39</td>\n",
       "    </tr>\n",
       "    <tr>\n",
       "      <th>Manufacturing</th>\n",
       "      <td>8.97</td>\n",
       "      <td>9.35</td>\n",
       "      <td>0.38</td>\n",
       "    </tr>\n",
       "    <tr>\n",
       "      <th>Financial services and insurance</th>\n",
       "      <td>9.70</td>\n",
       "      <td>10.07</td>\n",
       "      <td>0.37</td>\n",
       "    </tr>\n",
       "    <tr>\n",
       "      <th>Health and social work</th>\n",
       "      <td>9.45</td>\n",
       "      <td>9.82</td>\n",
       "      <td>0.37</td>\n",
       "    </tr>\n",
       "    <tr>\n",
       "      <th>Electricity, gas and water</th>\n",
       "      <td>8.92</td>\n",
       "      <td>9.29</td>\n",
       "      <td>0.37</td>\n",
       "    </tr>\n",
       "    <tr>\n",
       "      <th>Response suppressed</th>\n",
       "      <td>9.39</td>\n",
       "      <td>9.71</td>\n",
       "      <td>0.32</td>\n",
       "    </tr>\n",
       "    <tr>\n",
       "      <th>Other services</th>\n",
       "      <td>8.94</td>\n",
       "      <td>9.25</td>\n",
       "      <td>0.31</td>\n",
       "    </tr>\n",
       "    <tr>\n",
       "      <th>Private household services</th>\n",
       "      <td>8.48</td>\n",
       "      <td>8.78</td>\n",
       "      <td>0.30</td>\n",
       "    </tr>\n",
       "    <tr>\n",
       "      <th>Unknown</th>\n",
       "      <td>9.05</td>\n",
       "      <td>9.34</td>\n",
       "      <td>0.29</td>\n",
       "    </tr>\n",
       "    <tr>\n",
       "      <th>Wholesale and retail trade</th>\n",
       "      <td>9.02</td>\n",
       "      <td>9.27</td>\n",
       "      <td>0.25</td>\n",
       "    </tr>\n",
       "    <tr>\n",
       "      <th>Real estate and business services</th>\n",
       "      <td>9.34</td>\n",
       "      <td>9.59</td>\n",
       "      <td>0.25</td>\n",
       "    </tr>\n",
       "    <tr>\n",
       "      <th>Hotels and restaurants</th>\n",
       "      <td>8.94</td>\n",
       "      <td>9.18</td>\n",
       "      <td>0.24</td>\n",
       "    </tr>\n",
       "    <tr>\n",
       "      <th>Construction</th>\n",
       "      <td>9.32</td>\n",
       "      <td>9.09</td>\n",
       "      <td>-0.23</td>\n",
       "    </tr>\n",
       "    <tr>\n",
       "      <th>Public administration and defense</th>\n",
       "      <td>9.44</td>\n",
       "      <td>9.67</td>\n",
       "      <td>0.23</td>\n",
       "    </tr>\n",
       "    <tr>\n",
       "      <th>Education</th>\n",
       "      <td>9.41</td>\n",
       "      <td>9.62</td>\n",
       "      <td>0.21</td>\n",
       "    </tr>\n",
       "    <tr>\n",
       "      <th>Mining</th>\n",
       "      <td>9.65</td>\n",
       "      <td>9.50</td>\n",
       "      <td>-0.15</td>\n",
       "    </tr>\n",
       "    <tr>\n",
       "      <th>Transportation, storage and communications</th>\n",
       "      <td>9.38</td>\n",
       "      <td>9.47</td>\n",
       "      <td>0.09</td>\n",
       "    </tr>\n",
       "  </tbody>\n",
       "</table>\n",
       "</div>"
      ],
      "text/plain": [
       "SEX                                         Female   Male  Difference\n",
       "INDGEN                                                               \n",
       "Other industry, n.e.c.                       10.53   9.76       -0.77\n",
       "NIU (not in universe)                         8.35   8.96        0.61\n",
       "Agriculture, fishing, and forestry            8.32   8.71        0.39\n",
       "Manufacturing                                 8.97   9.35        0.38\n",
       "Financial services and insurance              9.70  10.07        0.37\n",
       "Health and social work                        9.45   9.82        0.37\n",
       "Electricity, gas and water                    8.92   9.29        0.37\n",
       "Response suppressed                           9.39   9.71        0.32\n",
       "Other services                                8.94   9.25        0.31\n",
       "Private household services                    8.48   8.78        0.30\n",
       "Unknown                                       9.05   9.34        0.29\n",
       "Wholesale and retail trade                    9.02   9.27        0.25\n",
       "Real estate and business services             9.34   9.59        0.25\n",
       "Hotels and restaurants                        8.94   9.18        0.24\n",
       "Construction                                  9.32   9.09       -0.23\n",
       "Public administration and defense             9.44   9.67        0.23\n",
       "Education                                     9.41   9.62        0.21\n",
       "Mining                                        9.65   9.50       -0.15\n",
       "Transportation, storage and communications    9.38   9.47        0.09"
      ]
     },
     "metadata": {},
     "output_type": "display_data"
    },
    {
     "data": {
      "text/plain": [
       "'Canada'"
      ]
     },
     "metadata": {},
     "output_type": "display_data"
    },
    {
     "data": {
      "text/html": [
       "<div>\n",
       "<table border=\"1\" class=\"dataframe\">\n",
       "  <thead>\n",
       "    <tr style=\"text-align: right;\">\n",
       "      <th>SEX</th>\n",
       "      <th>Female</th>\n",
       "      <th>Male</th>\n",
       "      <th>Difference</th>\n",
       "    </tr>\n",
       "    <tr>\n",
       "      <th>INDGEN</th>\n",
       "      <th></th>\n",
       "      <th></th>\n",
       "      <th></th>\n",
       "    </tr>\n",
       "  </thead>\n",
       "  <tbody>\n",
       "    <tr>\n",
       "      <th>Wholesale and retail trade</th>\n",
       "      <td>9.84</td>\n",
       "      <td>10.19</td>\n",
       "      <td>0.35</td>\n",
       "    </tr>\n",
       "    <tr>\n",
       "      <th>Mining</th>\n",
       "      <td>10.74</td>\n",
       "      <td>11.06</td>\n",
       "      <td>0.32</td>\n",
       "    </tr>\n",
       "    <tr>\n",
       "      <th>Agriculture, fishing, and forestry</th>\n",
       "      <td>9.77</td>\n",
       "      <td>10.08</td>\n",
       "      <td>0.31</td>\n",
       "    </tr>\n",
       "    <tr>\n",
       "      <th>Manufacturing</th>\n",
       "      <td>10.27</td>\n",
       "      <td>10.57</td>\n",
       "      <td>0.30</td>\n",
       "    </tr>\n",
       "    <tr>\n",
       "      <th>Health and social work</th>\n",
       "      <td>10.35</td>\n",
       "      <td>10.65</td>\n",
       "      <td>0.30</td>\n",
       "    </tr>\n",
       "    <tr>\n",
       "      <th>Financial services and insurance</th>\n",
       "      <td>10.59</td>\n",
       "      <td>10.89</td>\n",
       "      <td>0.30</td>\n",
       "    </tr>\n",
       "    <tr>\n",
       "      <th>Other services</th>\n",
       "      <td>9.92</td>\n",
       "      <td>10.20</td>\n",
       "      <td>0.28</td>\n",
       "    </tr>\n",
       "    <tr>\n",
       "      <th>NIU (not in universe)</th>\n",
       "      <td>9.40</td>\n",
       "      <td>9.65</td>\n",
       "      <td>0.25</td>\n",
       "    </tr>\n",
       "    <tr>\n",
       "      <th>Real estate and business services</th>\n",
       "      <td>10.22</td>\n",
       "      <td>10.45</td>\n",
       "      <td>0.23</td>\n",
       "    </tr>\n",
       "    <tr>\n",
       "      <th>Electricity, gas and water</th>\n",
       "      <td>10.87</td>\n",
       "      <td>11.08</td>\n",
       "      <td>0.21</td>\n",
       "    </tr>\n",
       "    <tr>\n",
       "      <th>Public administration and defense</th>\n",
       "      <td>10.58</td>\n",
       "      <td>10.78</td>\n",
       "      <td>0.20</td>\n",
       "    </tr>\n",
       "    <tr>\n",
       "      <th>Transportation, storage and communications</th>\n",
       "      <td>10.30</td>\n",
       "      <td>10.44</td>\n",
       "      <td>0.14</td>\n",
       "    </tr>\n",
       "    <tr>\n",
       "      <th>Construction</th>\n",
       "      <td>10.22</td>\n",
       "      <td>10.35</td>\n",
       "      <td>0.13</td>\n",
       "    </tr>\n",
       "    <tr>\n",
       "      <th>Education</th>\n",
       "      <td>10.43</td>\n",
       "      <td>10.54</td>\n",
       "      <td>0.11</td>\n",
       "    </tr>\n",
       "    <tr>\n",
       "      <th>Hotels and restaurants</th>\n",
       "      <td>9.43</td>\n",
       "      <td>9.48</td>\n",
       "      <td>0.05</td>\n",
       "    </tr>\n",
       "  </tbody>\n",
       "</table>\n",
       "</div>"
      ],
      "text/plain": [
       "SEX                                         Female   Male  Difference\n",
       "INDGEN                                                               \n",
       "Wholesale and retail trade                    9.84  10.19        0.35\n",
       "Mining                                       10.74  11.06        0.32\n",
       "Agriculture, fishing, and forestry            9.77  10.08        0.31\n",
       "Manufacturing                                10.27  10.57        0.30\n",
       "Health and social work                       10.35  10.65        0.30\n",
       "Financial services and insurance             10.59  10.89        0.30\n",
       "Other services                                9.92  10.20        0.28\n",
       "NIU (not in universe)                         9.40   9.65        0.25\n",
       "Real estate and business services            10.22  10.45        0.23\n",
       "Electricity, gas and water                   10.87  11.08        0.21\n",
       "Public administration and defense            10.58  10.78        0.20\n",
       "Transportation, storage and communications   10.30  10.44        0.14\n",
       "Construction                                 10.22  10.35        0.13\n",
       "Education                                    10.43  10.54        0.11\n",
       "Hotels and restaurants                        9.43   9.48        0.05"
      ]
     },
     "metadata": {},
     "output_type": "display_data"
    },
    {
     "data": {
      "text/plain": [
       "'Panama'"
      ]
     },
     "metadata": {},
     "output_type": "display_data"
    },
    {
     "data": {
      "text/html": [
       "<div>\n",
       "<table border=\"1\" class=\"dataframe\">\n",
       "  <thead>\n",
       "    <tr style=\"text-align: right;\">\n",
       "      <th>SEX</th>\n",
       "      <th>Female</th>\n",
       "      <th>Male</th>\n",
       "      <th>Difference</th>\n",
       "    </tr>\n",
       "    <tr>\n",
       "      <th>INDGEN</th>\n",
       "      <th></th>\n",
       "      <th></th>\n",
       "      <th></th>\n",
       "    </tr>\n",
       "  </thead>\n",
       "  <tbody>\n",
       "    <tr>\n",
       "      <th>NIU (not in universe)</th>\n",
       "      <td>7.57</td>\n",
       "      <td>8.19</td>\n",
       "      <td>0.62</td>\n",
       "    </tr>\n",
       "    <tr>\n",
       "      <th>Other industry, n.e.c.</th>\n",
       "      <td>9.39</td>\n",
       "      <td>9.97</td>\n",
       "      <td>0.58</td>\n",
       "    </tr>\n",
       "    <tr>\n",
       "      <th>Construction</th>\n",
       "      <td>9.24</td>\n",
       "      <td>8.70</td>\n",
       "      <td>-0.54</td>\n",
       "    </tr>\n",
       "    <tr>\n",
       "      <th>Manufacturing</th>\n",
       "      <td>8.21</td>\n",
       "      <td>8.69</td>\n",
       "      <td>0.48</td>\n",
       "    </tr>\n",
       "    <tr>\n",
       "      <th>Unknown</th>\n",
       "      <td>9.49</td>\n",
       "      <td>9.94</td>\n",
       "      <td>0.45</td>\n",
       "    </tr>\n",
       "    <tr>\n",
       "      <th>Health and social work</th>\n",
       "      <td>8.95</td>\n",
       "      <td>9.34</td>\n",
       "      <td>0.39</td>\n",
       "    </tr>\n",
       "    <tr>\n",
       "      <th>Hotels and restaurants</th>\n",
       "      <td>8.30</td>\n",
       "      <td>8.56</td>\n",
       "      <td>0.26</td>\n",
       "    </tr>\n",
       "    <tr>\n",
       "      <th>Private household services</th>\n",
       "      <td>7.78</td>\n",
       "      <td>7.98</td>\n",
       "      <td>0.20</td>\n",
       "    </tr>\n",
       "    <tr>\n",
       "      <th>Financial services and insurance</th>\n",
       "      <td>9.31</td>\n",
       "      <td>9.50</td>\n",
       "      <td>0.19</td>\n",
       "    </tr>\n",
       "    <tr>\n",
       "      <th>Agriculture, fishing, and forestry</th>\n",
       "      <td>8.00</td>\n",
       "      <td>7.84</td>\n",
       "      <td>-0.16</td>\n",
       "    </tr>\n",
       "    <tr>\n",
       "      <th>Education</th>\n",
       "      <td>8.97</td>\n",
       "      <td>9.08</td>\n",
       "      <td>0.11</td>\n",
       "    </tr>\n",
       "    <tr>\n",
       "      <th>Transportation, storage and communications</th>\n",
       "      <td>9.01</td>\n",
       "      <td>8.92</td>\n",
       "      <td>-0.09</td>\n",
       "    </tr>\n",
       "    <tr>\n",
       "      <th>Mining</th>\n",
       "      <td>8.85</td>\n",
       "      <td>8.78</td>\n",
       "      <td>-0.07</td>\n",
       "    </tr>\n",
       "    <tr>\n",
       "      <th>Other services</th>\n",
       "      <td>8.50</td>\n",
       "      <td>8.55</td>\n",
       "      <td>0.05</td>\n",
       "    </tr>\n",
       "    <tr>\n",
       "      <th>Wholesale and retail trade</th>\n",
       "      <td>8.64</td>\n",
       "      <td>8.68</td>\n",
       "      <td>0.04</td>\n",
       "    </tr>\n",
       "    <tr>\n",
       "      <th>Real estate and business services</th>\n",
       "      <td>9.25</td>\n",
       "      <td>9.29</td>\n",
       "      <td>0.04</td>\n",
       "    </tr>\n",
       "    <tr>\n",
       "      <th>Public administration and defense</th>\n",
       "      <td>9.05</td>\n",
       "      <td>9.02</td>\n",
       "      <td>-0.03</td>\n",
       "    </tr>\n",
       "    <tr>\n",
       "      <th>Electricity, gas and water</th>\n",
       "      <td>8.85</td>\n",
       "      <td>8.87</td>\n",
       "      <td>0.02</td>\n",
       "    </tr>\n",
       "  </tbody>\n",
       "</table>\n",
       "</div>"
      ],
      "text/plain": [
       "SEX                                         Female  Male  Difference\n",
       "INDGEN                                                              \n",
       "NIU (not in universe)                         7.57  8.19        0.62\n",
       "Other industry, n.e.c.                        9.39  9.97        0.58\n",
       "Construction                                  9.24  8.70       -0.54\n",
       "Manufacturing                                 8.21  8.69        0.48\n",
       "Unknown                                       9.49  9.94        0.45\n",
       "Health and social work                        8.95  9.34        0.39\n",
       "Hotels and restaurants                        8.30  8.56        0.26\n",
       "Private household services                    7.78  7.98        0.20\n",
       "Financial services and insurance              9.31  9.50        0.19\n",
       "Agriculture, fishing, and forestry            8.00  7.84       -0.16\n",
       "Education                                     8.97  9.08        0.11\n",
       "Transportation, storage and communications    9.01  8.92       -0.09\n",
       "Mining                                        8.85  8.78       -0.07\n",
       "Other services                                8.50  8.55        0.05\n",
       "Wholesale and retail trade                    8.64  8.68        0.04\n",
       "Real estate and business services             9.25  9.29        0.04\n",
       "Public administration and defense             9.05  9.02       -0.03\n",
       "Electricity, gas and water                    8.85  8.87        0.02"
      ]
     },
     "metadata": {},
     "output_type": "display_data"
    },
    {
     "data": {
      "text/plain": [
       "'PuertoRico'"
      ]
     },
     "metadata": {},
     "output_type": "display_data"
    },
    {
     "data": {
      "text/html": [
       "<div>\n",
       "<table border=\"1\" class=\"dataframe\">\n",
       "  <thead>\n",
       "    <tr style=\"text-align: right;\">\n",
       "      <th>SEX</th>\n",
       "      <th>Female</th>\n",
       "      <th>Male</th>\n",
       "      <th>Difference</th>\n",
       "    </tr>\n",
       "    <tr>\n",
       "      <th>INDGEN</th>\n",
       "      <th></th>\n",
       "      <th></th>\n",
       "      <th></th>\n",
       "    </tr>\n",
       "  </thead>\n",
       "  <tbody>\n",
       "    <tr>\n",
       "      <th>Private household services</th>\n",
       "      <td>8.44</td>\n",
       "      <td>9.17</td>\n",
       "      <td>0.73</td>\n",
       "    </tr>\n",
       "    <tr>\n",
       "      <th>Wholesale and retail trade</th>\n",
       "      <td>9.20</td>\n",
       "      <td>9.57</td>\n",
       "      <td>0.37</td>\n",
       "    </tr>\n",
       "    <tr>\n",
       "      <th>NIU (not in universe)</th>\n",
       "      <td>8.69</td>\n",
       "      <td>9.05</td>\n",
       "      <td>0.36</td>\n",
       "    </tr>\n",
       "    <tr>\n",
       "      <th>Health and social work</th>\n",
       "      <td>9.62</td>\n",
       "      <td>9.94</td>\n",
       "      <td>0.32</td>\n",
       "    </tr>\n",
       "    <tr>\n",
       "      <th>Financial services and insurance</th>\n",
       "      <td>9.98</td>\n",
       "      <td>10.26</td>\n",
       "      <td>0.28</td>\n",
       "    </tr>\n",
       "    <tr>\n",
       "      <th>Hotels and restaurants</th>\n",
       "      <td>8.83</td>\n",
       "      <td>9.09</td>\n",
       "      <td>0.26</td>\n",
       "    </tr>\n",
       "    <tr>\n",
       "      <th>Construction</th>\n",
       "      <td>9.43</td>\n",
       "      <td>9.19</td>\n",
       "      <td>-0.24</td>\n",
       "    </tr>\n",
       "    <tr>\n",
       "      <th>Electricity, gas and water</th>\n",
       "      <td>10.45</td>\n",
       "      <td>10.27</td>\n",
       "      <td>-0.18</td>\n",
       "    </tr>\n",
       "    <tr>\n",
       "      <th>Manufacturing</th>\n",
       "      <td>9.59</td>\n",
       "      <td>9.77</td>\n",
       "      <td>0.18</td>\n",
       "    </tr>\n",
       "    <tr>\n",
       "      <th>Transportation, storage and communications</th>\n",
       "      <td>9.69</td>\n",
       "      <td>9.81</td>\n",
       "      <td>0.12</td>\n",
       "    </tr>\n",
       "    <tr>\n",
       "      <th>Agriculture, fishing, and forestry</th>\n",
       "      <td>8.83</td>\n",
       "      <td>8.76</td>\n",
       "      <td>-0.07</td>\n",
       "    </tr>\n",
       "    <tr>\n",
       "      <th>Other services</th>\n",
       "      <td>9.10</td>\n",
       "      <td>9.16</td>\n",
       "      <td>0.06</td>\n",
       "    </tr>\n",
       "    <tr>\n",
       "      <th>Real estate and business services</th>\n",
       "      <td>9.59</td>\n",
       "      <td>9.64</td>\n",
       "      <td>0.05</td>\n",
       "    </tr>\n",
       "    <tr>\n",
       "      <th>Public administration and defense</th>\n",
       "      <td>9.88</td>\n",
       "      <td>9.92</td>\n",
       "      <td>0.04</td>\n",
       "    </tr>\n",
       "    <tr>\n",
       "      <th>Education</th>\n",
       "      <td>9.77</td>\n",
       "      <td>9.80</td>\n",
       "      <td>0.03</td>\n",
       "    </tr>\n",
       "    <tr>\n",
       "      <th>Mining</th>\n",
       "      <td>NaN</td>\n",
       "      <td>9.51</td>\n",
       "      <td>NaN</td>\n",
       "    </tr>\n",
       "  </tbody>\n",
       "</table>\n",
       "</div>"
      ],
      "text/plain": [
       "SEX                                         Female   Male  Difference\n",
       "INDGEN                                                               \n",
       "Private household services                    8.44   9.17        0.73\n",
       "Wholesale and retail trade                    9.20   9.57        0.37\n",
       "NIU (not in universe)                         8.69   9.05        0.36\n",
       "Health and social work                        9.62   9.94        0.32\n",
       "Financial services and insurance              9.98  10.26        0.28\n",
       "Hotels and restaurants                        8.83   9.09        0.26\n",
       "Construction                                  9.43   9.19       -0.24\n",
       "Electricity, gas and water                   10.45  10.27       -0.18\n",
       "Manufacturing                                 9.59   9.77        0.18\n",
       "Transportation, storage and communications    9.69   9.81        0.12\n",
       "Agriculture, fishing, and forestry            8.83   8.76       -0.07\n",
       "Other services                                9.10   9.16        0.06\n",
       "Real estate and business services             9.59   9.64        0.05\n",
       "Public administration and defense             9.88   9.92        0.04\n",
       "Education                                     9.77   9.80        0.03\n",
       "Mining                                         NaN   9.51         NaN"
      ]
     },
     "metadata": {},
     "output_type": "display_data"
    },
    {
     "data": {
      "text/plain": [
       "'UnitedStates'"
      ]
     },
     "metadata": {},
     "output_type": "display_data"
    },
    {
     "data": {
      "text/html": [
       "<div>\n",
       "<table border=\"1\" class=\"dataframe\">\n",
       "  <thead>\n",
       "    <tr style=\"text-align: right;\">\n",
       "      <th>SEX</th>\n",
       "      <th>Female</th>\n",
       "      <th>Male</th>\n",
       "      <th>Difference</th>\n",
       "    </tr>\n",
       "    <tr>\n",
       "      <th>INDGEN</th>\n",
       "      <th></th>\n",
       "      <th></th>\n",
       "      <th></th>\n",
       "    </tr>\n",
       "  </thead>\n",
       "  <tbody>\n",
       "    <tr>\n",
       "      <th>Financial services and insurance</th>\n",
       "      <td>10.39</td>\n",
       "      <td>11.04</td>\n",
       "      <td>0.65</td>\n",
       "    </tr>\n",
       "    <tr>\n",
       "      <th>Agriculture, fishing, and forestry</th>\n",
       "      <td>9.34</td>\n",
       "      <td>9.92</td>\n",
       "      <td>0.58</td>\n",
       "    </tr>\n",
       "    <tr>\n",
       "      <th>Health and social work</th>\n",
       "      <td>10.07</td>\n",
       "      <td>10.63</td>\n",
       "      <td>0.56</td>\n",
       "    </tr>\n",
       "    <tr>\n",
       "      <th>Wholesale and retail trade</th>\n",
       "      <td>9.55</td>\n",
       "      <td>10.07</td>\n",
       "      <td>0.52</td>\n",
       "    </tr>\n",
       "    <tr>\n",
       "      <th>NIU (not in universe)</th>\n",
       "      <td>9.37</td>\n",
       "      <td>9.82</td>\n",
       "      <td>0.45</td>\n",
       "    </tr>\n",
       "    <tr>\n",
       "      <th>Real estate and business services</th>\n",
       "      <td>10.07</td>\n",
       "      <td>10.48</td>\n",
       "      <td>0.41</td>\n",
       "    </tr>\n",
       "    <tr>\n",
       "      <th>Manufacturing</th>\n",
       "      <td>10.12</td>\n",
       "      <td>10.52</td>\n",
       "      <td>0.40</td>\n",
       "    </tr>\n",
       "    <tr>\n",
       "      <th>Other services</th>\n",
       "      <td>9.49</td>\n",
       "      <td>9.88</td>\n",
       "      <td>0.39</td>\n",
       "    </tr>\n",
       "    <tr>\n",
       "      <th>Public administration and defense</th>\n",
       "      <td>10.39</td>\n",
       "      <td>10.70</td>\n",
       "      <td>0.31</td>\n",
       "    </tr>\n",
       "    <tr>\n",
       "      <th>Electricity, gas and water</th>\n",
       "      <td>10.59</td>\n",
       "      <td>10.89</td>\n",
       "      <td>0.30</td>\n",
       "    </tr>\n",
       "    <tr>\n",
       "      <th>Transportation, storage and communications</th>\n",
       "      <td>10.14</td>\n",
       "      <td>10.44</td>\n",
       "      <td>0.30</td>\n",
       "    </tr>\n",
       "    <tr>\n",
       "      <th>Mining</th>\n",
       "      <td>10.47</td>\n",
       "      <td>10.76</td>\n",
       "      <td>0.29</td>\n",
       "    </tr>\n",
       "    <tr>\n",
       "      <th>Education</th>\n",
       "      <td>10.07</td>\n",
       "      <td>10.35</td>\n",
       "      <td>0.28</td>\n",
       "    </tr>\n",
       "    <tr>\n",
       "      <th>Hotels and restaurants</th>\n",
       "      <td>9.01</td>\n",
       "      <td>9.27</td>\n",
       "      <td>0.26</td>\n",
       "    </tr>\n",
       "    <tr>\n",
       "      <th>Construction</th>\n",
       "      <td>9.98</td>\n",
       "      <td>10.12</td>\n",
       "      <td>0.14</td>\n",
       "    </tr>\n",
       "    <tr>\n",
       "      <th>Private household services</th>\n",
       "      <td>8.75</td>\n",
       "      <td>8.75</td>\n",
       "      <td>0.00</td>\n",
       "    </tr>\n",
       "  </tbody>\n",
       "</table>\n",
       "</div>"
      ],
      "text/plain": [
       "SEX                                         Female   Male  Difference\n",
       "INDGEN                                                               \n",
       "Financial services and insurance             10.39  11.04        0.65\n",
       "Agriculture, fishing, and forestry            9.34   9.92        0.58\n",
       "Health and social work                       10.07  10.63        0.56\n",
       "Wholesale and retail trade                    9.55  10.07        0.52\n",
       "NIU (not in universe)                         9.37   9.82        0.45\n",
       "Real estate and business services            10.07  10.48        0.41\n",
       "Manufacturing                                10.12  10.52        0.40\n",
       "Other services                                9.49   9.88        0.39\n",
       "Public administration and defense            10.39  10.70        0.31\n",
       "Electricity, gas and water                   10.59  10.89        0.30\n",
       "Transportation, storage and communications   10.14  10.44        0.30\n",
       "Mining                                       10.47  10.76        0.29\n",
       "Education                                    10.07  10.35        0.28\n",
       "Hotels and restaurants                        9.01   9.27        0.26\n",
       "Construction                                  9.98  10.12        0.14\n",
       "Private household services                    8.75   8.75        0.00"
      ]
     },
     "metadata": {},
     "output_type": "display_data"
    }
   ],
   "source": [
    "for i in range(0, 5):\n",
    "    display(countryNames[i], ctab3[countryNames[i]].reindex(ctab3[countryNames[i]].Difference.abs().sort_values(ascending=False).index))"
   ]
  },
  {
   "cell_type": "markdown",
   "metadata": {},
   "source": [
    "The tables below show the percentage of Males and Females in each industry.  The industries are ordered by industry income difference (shown in the tables above)."
   ]
  },
  {
   "cell_type": "code",
   "execution_count": 26,
   "metadata": {
    "scrolled": false
   },
   "outputs": [
    {
     "data": {
      "text/plain": [
       "'Brazil'"
      ]
     },
     "metadata": {},
     "output_type": "display_data"
    },
    {
     "data": {
      "text/html": [
       "<div>\n",
       "<table border=\"1\" class=\"dataframe\">\n",
       "  <thead>\n",
       "    <tr style=\"text-align: right;\">\n",
       "      <th>SEX</th>\n",
       "      <th>Female</th>\n",
       "      <th>Male</th>\n",
       "      <th>Difference</th>\n",
       "    </tr>\n",
       "    <tr>\n",
       "      <th>INDGEN</th>\n",
       "      <th></th>\n",
       "      <th></th>\n",
       "      <th></th>\n",
       "    </tr>\n",
       "  </thead>\n",
       "  <tbody>\n",
       "    <tr>\n",
       "      <th>NIU (not in universe)</th>\n",
       "      <td>0.35</td>\n",
       "      <td>0.15</td>\n",
       "      <td>-0.20</td>\n",
       "    </tr>\n",
       "    <tr>\n",
       "      <th>Agriculture, fishing, and forestry</th>\n",
       "      <td>0.08</td>\n",
       "      <td>0.19</td>\n",
       "      <td>0.11</td>\n",
       "    </tr>\n",
       "    <tr>\n",
       "      <th>Construction</th>\n",
       "      <td>0.00</td>\n",
       "      <td>0.10</td>\n",
       "      <td>0.10</td>\n",
       "    </tr>\n",
       "    <tr>\n",
       "      <th>Private household services</th>\n",
       "      <td>0.10</td>\n",
       "      <td>0.01</td>\n",
       "      <td>-0.09</td>\n",
       "    </tr>\n",
       "    <tr>\n",
       "      <th>Education</th>\n",
       "      <td>0.07</td>\n",
       "      <td>0.02</td>\n",
       "      <td>-0.05</td>\n",
       "    </tr>\n",
       "    <tr>\n",
       "      <th>Transportation, storage and communications</th>\n",
       "      <td>0.01</td>\n",
       "      <td>0.06</td>\n",
       "      <td>0.05</td>\n",
       "    </tr>\n",
       "    <tr>\n",
       "      <th>Manufacturing</th>\n",
       "      <td>0.07</td>\n",
       "      <td>0.11</td>\n",
       "      <td>0.04</td>\n",
       "    </tr>\n",
       "    <tr>\n",
       "      <th>Wholesale and retail trade</th>\n",
       "      <td>0.10</td>\n",
       "      <td>0.13</td>\n",
       "      <td>0.03</td>\n",
       "    </tr>\n",
       "    <tr>\n",
       "      <th>Unknown</th>\n",
       "      <td>0.03</td>\n",
       "      <td>0.05</td>\n",
       "      <td>0.02</td>\n",
       "    </tr>\n",
       "    <tr>\n",
       "      <th>Health and social work</th>\n",
       "      <td>0.04</td>\n",
       "      <td>0.02</td>\n",
       "      <td>-0.02</td>\n",
       "    </tr>\n",
       "    <tr>\n",
       "      <th>Real estate and business services</th>\n",
       "      <td>0.03</td>\n",
       "      <td>0.04</td>\n",
       "      <td>0.01</td>\n",
       "    </tr>\n",
       "    <tr>\n",
       "      <th>Public administration and defense</th>\n",
       "      <td>0.04</td>\n",
       "      <td>0.05</td>\n",
       "      <td>0.01</td>\n",
       "    </tr>\n",
       "    <tr>\n",
       "      <th>Electricity, gas and water</th>\n",
       "      <td>0.00</td>\n",
       "      <td>0.01</td>\n",
       "      <td>0.01</td>\n",
       "    </tr>\n",
       "    <tr>\n",
       "      <th>Mining</th>\n",
       "      <td>0.00</td>\n",
       "      <td>0.01</td>\n",
       "      <td>0.01</td>\n",
       "    </tr>\n",
       "    <tr>\n",
       "      <th>Hotels and restaurants</th>\n",
       "      <td>0.03</td>\n",
       "      <td>0.02</td>\n",
       "      <td>-0.01</td>\n",
       "    </tr>\n",
       "    <tr>\n",
       "      <th>Other services</th>\n",
       "      <td>0.03</td>\n",
       "      <td>0.02</td>\n",
       "      <td>-0.01</td>\n",
       "    </tr>\n",
       "    <tr>\n",
       "      <th>Response suppressed</th>\n",
       "      <td>0.00</td>\n",
       "      <td>0.00</td>\n",
       "      <td>0.00</td>\n",
       "    </tr>\n",
       "    <tr>\n",
       "      <th>Financial services and insurance</th>\n",
       "      <td>0.01</td>\n",
       "      <td>0.01</td>\n",
       "      <td>0.00</td>\n",
       "    </tr>\n",
       "    <tr>\n",
       "      <th>Other industry, n.e.c.</th>\n",
       "      <td>0.00</td>\n",
       "      <td>0.00</td>\n",
       "      <td>0.00</td>\n",
       "    </tr>\n",
       "  </tbody>\n",
       "</table>\n",
       "</div>"
      ],
      "text/plain": [
       "SEX                                         Female  Male  Difference\n",
       "INDGEN                                                              \n",
       "NIU (not in universe)                         0.35  0.15       -0.20\n",
       "Agriculture, fishing, and forestry            0.08  0.19        0.11\n",
       "Construction                                  0.00  0.10        0.10\n",
       "Private household services                    0.10  0.01       -0.09\n",
       "Education                                     0.07  0.02       -0.05\n",
       "Transportation, storage and communications    0.01  0.06        0.05\n",
       "Manufacturing                                 0.07  0.11        0.04\n",
       "Wholesale and retail trade                    0.10  0.13        0.03\n",
       "Unknown                                       0.03  0.05        0.02\n",
       "Health and social work                        0.04  0.02       -0.02\n",
       "Real estate and business services             0.03  0.04        0.01\n",
       "Public administration and defense             0.04  0.05        0.01\n",
       "Electricity, gas and water                    0.00  0.01        0.01\n",
       "Mining                                        0.00  0.01        0.01\n",
       "Hotels and restaurants                        0.03  0.02       -0.01\n",
       "Other services                                0.03  0.02       -0.01\n",
       "Response suppressed                           0.00  0.00        0.00\n",
       "Financial services and insurance              0.01  0.01        0.00\n",
       "Other industry, n.e.c.                        0.00  0.00        0.00"
      ]
     },
     "metadata": {},
     "output_type": "display_data"
    },
    {
     "data": {
      "text/plain": [
       "'Canada'"
      ]
     },
     "metadata": {},
     "output_type": "display_data"
    },
    {
     "data": {
      "text/html": [
       "<div>\n",
       "<table border=\"1\" class=\"dataframe\">\n",
       "  <thead>\n",
       "    <tr style=\"text-align: right;\">\n",
       "      <th>SEX</th>\n",
       "      <th>Female</th>\n",
       "      <th>Male</th>\n",
       "      <th>Difference</th>\n",
       "    </tr>\n",
       "    <tr>\n",
       "      <th>INDGEN</th>\n",
       "      <th></th>\n",
       "      <th></th>\n",
       "      <th></th>\n",
       "    </tr>\n",
       "  </thead>\n",
       "  <tbody>\n",
       "    <tr>\n",
       "      <th>Health and social work</th>\n",
       "      <td>0.13</td>\n",
       "      <td>0.03</td>\n",
       "      <td>-0.10</td>\n",
       "    </tr>\n",
       "    <tr>\n",
       "      <th>NIU (not in universe)</th>\n",
       "      <td>0.31</td>\n",
       "      <td>0.22</td>\n",
       "      <td>-0.09</td>\n",
       "    </tr>\n",
       "    <tr>\n",
       "      <th>Construction</th>\n",
       "      <td>0.01</td>\n",
       "      <td>0.09</td>\n",
       "      <td>0.08</td>\n",
       "    </tr>\n",
       "    <tr>\n",
       "      <th>Manufacturing</th>\n",
       "      <td>0.04</td>\n",
       "      <td>0.10</td>\n",
       "      <td>0.06</td>\n",
       "    </tr>\n",
       "    <tr>\n",
       "      <th>Education</th>\n",
       "      <td>0.07</td>\n",
       "      <td>0.04</td>\n",
       "      <td>-0.03</td>\n",
       "    </tr>\n",
       "    <tr>\n",
       "      <th>Transportation, storage and communications</th>\n",
       "      <td>0.02</td>\n",
       "      <td>0.05</td>\n",
       "      <td>0.03</td>\n",
       "    </tr>\n",
       "    <tr>\n",
       "      <th>Real estate and business services</th>\n",
       "      <td>0.08</td>\n",
       "      <td>0.11</td>\n",
       "      <td>0.03</td>\n",
       "    </tr>\n",
       "    <tr>\n",
       "      <th>Mining</th>\n",
       "      <td>0.00</td>\n",
       "      <td>0.02</td>\n",
       "      <td>0.02</td>\n",
       "    </tr>\n",
       "    <tr>\n",
       "      <th>Hotels and restaurants</th>\n",
       "      <td>0.05</td>\n",
       "      <td>0.04</td>\n",
       "      <td>-0.01</td>\n",
       "    </tr>\n",
       "    <tr>\n",
       "      <th>Financial services and insurance</th>\n",
       "      <td>0.04</td>\n",
       "      <td>0.03</td>\n",
       "      <td>-0.01</td>\n",
       "    </tr>\n",
       "    <tr>\n",
       "      <th>Electricity, gas and water</th>\n",
       "      <td>0.00</td>\n",
       "      <td>0.01</td>\n",
       "      <td>0.01</td>\n",
       "    </tr>\n",
       "    <tr>\n",
       "      <th>Agriculture, fishing, and forestry</th>\n",
       "      <td>0.01</td>\n",
       "      <td>0.02</td>\n",
       "      <td>0.01</td>\n",
       "    </tr>\n",
       "    <tr>\n",
       "      <th>Public administration and defense</th>\n",
       "      <td>0.05</td>\n",
       "      <td>0.06</td>\n",
       "      <td>0.01</td>\n",
       "    </tr>\n",
       "    <tr>\n",
       "      <th>Wholesale and retail trade</th>\n",
       "      <td>0.11</td>\n",
       "      <td>0.12</td>\n",
       "      <td>0.01</td>\n",
       "    </tr>\n",
       "    <tr>\n",
       "      <th>Other services</th>\n",
       "      <td>0.07</td>\n",
       "      <td>0.07</td>\n",
       "      <td>0.00</td>\n",
       "    </tr>\n",
       "  </tbody>\n",
       "</table>\n",
       "</div>"
      ],
      "text/plain": [
       "SEX                                         Female  Male  Difference\n",
       "INDGEN                                                              \n",
       "Health and social work                        0.13  0.03       -0.10\n",
       "NIU (not in universe)                         0.31  0.22       -0.09\n",
       "Construction                                  0.01  0.09        0.08\n",
       "Manufacturing                                 0.04  0.10        0.06\n",
       "Education                                     0.07  0.04       -0.03\n",
       "Transportation, storage and communications    0.02  0.05        0.03\n",
       "Real estate and business services             0.08  0.11        0.03\n",
       "Mining                                        0.00  0.02        0.02\n",
       "Hotels and restaurants                        0.05  0.04       -0.01\n",
       "Financial services and insurance              0.04  0.03       -0.01\n",
       "Electricity, gas and water                    0.00  0.01        0.01\n",
       "Agriculture, fishing, and forestry            0.01  0.02        0.01\n",
       "Public administration and defense             0.05  0.06        0.01\n",
       "Wholesale and retail trade                    0.11  0.12        0.01\n",
       "Other services                                0.07  0.07        0.00"
      ]
     },
     "metadata": {},
     "output_type": "display_data"
    },
    {
     "data": {
      "text/plain": [
       "'Panama'"
      ]
     },
     "metadata": {},
     "output_type": "display_data"
    },
    {
     "data": {
      "text/html": [
       "<div>\n",
       "<table border=\"1\" class=\"dataframe\">\n",
       "  <thead>\n",
       "    <tr style=\"text-align: right;\">\n",
       "      <th>SEX</th>\n",
       "      <th>Female</th>\n",
       "      <th>Male</th>\n",
       "      <th>Difference</th>\n",
       "    </tr>\n",
       "    <tr>\n",
       "      <th>INDGEN</th>\n",
       "      <th></th>\n",
       "      <th></th>\n",
       "      <th></th>\n",
       "    </tr>\n",
       "  </thead>\n",
       "  <tbody>\n",
       "    <tr>\n",
       "      <th>NIU (not in universe)</th>\n",
       "      <td>0.33</td>\n",
       "      <td>0.13</td>\n",
       "      <td>-0.20</td>\n",
       "    </tr>\n",
       "    <tr>\n",
       "      <th>Agriculture, fishing, and forestry</th>\n",
       "      <td>0.01</td>\n",
       "      <td>0.16</td>\n",
       "      <td>0.15</td>\n",
       "    </tr>\n",
       "    <tr>\n",
       "      <th>Construction</th>\n",
       "      <td>0.01</td>\n",
       "      <td>0.14</td>\n",
       "      <td>0.13</td>\n",
       "    </tr>\n",
       "    <tr>\n",
       "      <th>Private household services</th>\n",
       "      <td>0.09</td>\n",
       "      <td>0.01</td>\n",
       "      <td>-0.08</td>\n",
       "    </tr>\n",
       "    <tr>\n",
       "      <th>Transportation, storage and communications</th>\n",
       "      <td>0.04</td>\n",
       "      <td>0.10</td>\n",
       "      <td>0.06</td>\n",
       "    </tr>\n",
       "    <tr>\n",
       "      <th>Education</th>\n",
       "      <td>0.08</td>\n",
       "      <td>0.03</td>\n",
       "      <td>-0.05</td>\n",
       "    </tr>\n",
       "    <tr>\n",
       "      <th>Manufacturing</th>\n",
       "      <td>0.03</td>\n",
       "      <td>0.07</td>\n",
       "      <td>0.04</td>\n",
       "    </tr>\n",
       "    <tr>\n",
       "      <th>Health and social work</th>\n",
       "      <td>0.05</td>\n",
       "      <td>0.02</td>\n",
       "      <td>-0.03</td>\n",
       "    </tr>\n",
       "    <tr>\n",
       "      <th>Hotels and restaurants</th>\n",
       "      <td>0.04</td>\n",
       "      <td>0.02</td>\n",
       "      <td>-0.02</td>\n",
       "    </tr>\n",
       "    <tr>\n",
       "      <th>Financial services and insurance</th>\n",
       "      <td>0.03</td>\n",
       "      <td>0.01</td>\n",
       "      <td>-0.02</td>\n",
       "    </tr>\n",
       "    <tr>\n",
       "      <th>Wholesale and retail trade</th>\n",
       "      <td>0.14</td>\n",
       "      <td>0.16</td>\n",
       "      <td>0.02</td>\n",
       "    </tr>\n",
       "    <tr>\n",
       "      <th>Electricity, gas and water</th>\n",
       "      <td>0.00</td>\n",
       "      <td>0.01</td>\n",
       "      <td>0.01</td>\n",
       "    </tr>\n",
       "    <tr>\n",
       "      <th>Real estate and business services</th>\n",
       "      <td>0.03</td>\n",
       "      <td>0.02</td>\n",
       "      <td>-0.01</td>\n",
       "    </tr>\n",
       "    <tr>\n",
       "      <th>Mining</th>\n",
       "      <td>0.00</td>\n",
       "      <td>0.00</td>\n",
       "      <td>0.00</td>\n",
       "    </tr>\n",
       "    <tr>\n",
       "      <th>Public administration and defense</th>\n",
       "      <td>0.05</td>\n",
       "      <td>0.05</td>\n",
       "      <td>0.00</td>\n",
       "    </tr>\n",
       "    <tr>\n",
       "      <th>Other services</th>\n",
       "      <td>0.06</td>\n",
       "      <td>0.06</td>\n",
       "      <td>0.00</td>\n",
       "    </tr>\n",
       "    <tr>\n",
       "      <th>Unknown</th>\n",
       "      <td>0.01</td>\n",
       "      <td>0.01</td>\n",
       "      <td>0.00</td>\n",
       "    </tr>\n",
       "    <tr>\n",
       "      <th>Other industry, n.e.c.</th>\n",
       "      <td>0.00</td>\n",
       "      <td>0.00</td>\n",
       "      <td>0.00</td>\n",
       "    </tr>\n",
       "  </tbody>\n",
       "</table>\n",
       "</div>"
      ],
      "text/plain": [
       "SEX                                         Female  Male  Difference\n",
       "INDGEN                                                              \n",
       "NIU (not in universe)                         0.33  0.13       -0.20\n",
       "Agriculture, fishing, and forestry            0.01  0.16        0.15\n",
       "Construction                                  0.01  0.14        0.13\n",
       "Private household services                    0.09  0.01       -0.08\n",
       "Transportation, storage and communications    0.04  0.10        0.06\n",
       "Education                                     0.08  0.03       -0.05\n",
       "Manufacturing                                 0.03  0.07        0.04\n",
       "Health and social work                        0.05  0.02       -0.03\n",
       "Hotels and restaurants                        0.04  0.02       -0.02\n",
       "Financial services and insurance              0.03  0.01       -0.02\n",
       "Wholesale and retail trade                    0.14  0.16        0.02\n",
       "Electricity, gas and water                    0.00  0.01        0.01\n",
       "Real estate and business services             0.03  0.02       -0.01\n",
       "Mining                                        0.00  0.00        0.00\n",
       "Public administration and defense             0.05  0.05        0.00\n",
       "Other services                                0.06  0.06        0.00\n",
       "Unknown                                       0.01  0.01        0.00\n",
       "Other industry, n.e.c.                        0.00  0.00        0.00"
      ]
     },
     "metadata": {},
     "output_type": "display_data"
    },
    {
     "data": {
      "text/plain": [
       "'PuertoRico'"
      ]
     },
     "metadata": {},
     "output_type": "display_data"
    },
    {
     "data": {
      "text/html": [
       "<div>\n",
       "<table border=\"1\" class=\"dataframe\">\n",
       "  <thead>\n",
       "    <tr style=\"text-align: right;\">\n",
       "      <th>SEX</th>\n",
       "      <th>Female</th>\n",
       "      <th>Male</th>\n",
       "      <th>Difference</th>\n",
       "    </tr>\n",
       "    <tr>\n",
       "      <th>INDGEN</th>\n",
       "      <th></th>\n",
       "      <th></th>\n",
       "      <th></th>\n",
       "    </tr>\n",
       "  </thead>\n",
       "  <tbody>\n",
       "    <tr>\n",
       "      <th>NIU (not in universe)</th>\n",
       "      <td>0.46</td>\n",
       "      <td>0.34</td>\n",
       "      <td>-0.12</td>\n",
       "    </tr>\n",
       "    <tr>\n",
       "      <th>Construction</th>\n",
       "      <td>0.00</td>\n",
       "      <td>0.08</td>\n",
       "      <td>0.08</td>\n",
       "    </tr>\n",
       "    <tr>\n",
       "      <th>Education</th>\n",
       "      <td>0.11</td>\n",
       "      <td>0.04</td>\n",
       "      <td>-0.07</td>\n",
       "    </tr>\n",
       "    <tr>\n",
       "      <th>Health and social work</th>\n",
       "      <td>0.09</td>\n",
       "      <td>0.03</td>\n",
       "      <td>-0.06</td>\n",
       "    </tr>\n",
       "    <tr>\n",
       "      <th>Manufacturing</th>\n",
       "      <td>0.04</td>\n",
       "      <td>0.07</td>\n",
       "      <td>0.03</td>\n",
       "    </tr>\n",
       "    <tr>\n",
       "      <th>Other services</th>\n",
       "      <td>0.02</td>\n",
       "      <td>0.05</td>\n",
       "      <td>0.03</td>\n",
       "    </tr>\n",
       "    <tr>\n",
       "      <th>Real estate and business services</th>\n",
       "      <td>0.06</td>\n",
       "      <td>0.09</td>\n",
       "      <td>0.03</td>\n",
       "    </tr>\n",
       "    <tr>\n",
       "      <th>Transportation, storage and communications</th>\n",
       "      <td>0.01</td>\n",
       "      <td>0.04</td>\n",
       "      <td>0.03</td>\n",
       "    </tr>\n",
       "    <tr>\n",
       "      <th>Wholesale and retail trade</th>\n",
       "      <td>0.08</td>\n",
       "      <td>0.11</td>\n",
       "      <td>0.03</td>\n",
       "    </tr>\n",
       "    <tr>\n",
       "      <th>Public administration and defense</th>\n",
       "      <td>0.06</td>\n",
       "      <td>0.07</td>\n",
       "      <td>0.01</td>\n",
       "    </tr>\n",
       "    <tr>\n",
       "      <th>Electricity, gas and water</th>\n",
       "      <td>0.00</td>\n",
       "      <td>0.01</td>\n",
       "      <td>0.01</td>\n",
       "    </tr>\n",
       "    <tr>\n",
       "      <th>Agriculture, fishing, and forestry</th>\n",
       "      <td>0.00</td>\n",
       "      <td>0.01</td>\n",
       "      <td>0.01</td>\n",
       "    </tr>\n",
       "    <tr>\n",
       "      <th>Financial services and insurance</th>\n",
       "      <td>0.02</td>\n",
       "      <td>0.01</td>\n",
       "      <td>-0.01</td>\n",
       "    </tr>\n",
       "    <tr>\n",
       "      <th>Private household services</th>\n",
       "      <td>0.01</td>\n",
       "      <td>0.00</td>\n",
       "      <td>-0.01</td>\n",
       "    </tr>\n",
       "    <tr>\n",
       "      <th>Hotels and restaurants</th>\n",
       "      <td>0.04</td>\n",
       "      <td>0.04</td>\n",
       "      <td>0.00</td>\n",
       "    </tr>\n",
       "    <tr>\n",
       "      <th>Mining</th>\n",
       "      <td>NaN</td>\n",
       "      <td>0.00</td>\n",
       "      <td>NaN</td>\n",
       "    </tr>\n",
       "  </tbody>\n",
       "</table>\n",
       "</div>"
      ],
      "text/plain": [
       "SEX                                         Female  Male  Difference\n",
       "INDGEN                                                              \n",
       "NIU (not in universe)                         0.46  0.34       -0.12\n",
       "Construction                                  0.00  0.08        0.08\n",
       "Education                                     0.11  0.04       -0.07\n",
       "Health and social work                        0.09  0.03       -0.06\n",
       "Manufacturing                                 0.04  0.07        0.03\n",
       "Other services                                0.02  0.05        0.03\n",
       "Real estate and business services             0.06  0.09        0.03\n",
       "Transportation, storage and communications    0.01  0.04        0.03\n",
       "Wholesale and retail trade                    0.08  0.11        0.03\n",
       "Public administration and defense             0.06  0.07        0.01\n",
       "Electricity, gas and water                    0.00  0.01        0.01\n",
       "Agriculture, fishing, and forestry            0.00  0.01        0.01\n",
       "Financial services and insurance              0.02  0.01       -0.01\n",
       "Private household services                    0.01  0.00       -0.01\n",
       "Hotels and restaurants                        0.04  0.04        0.00\n",
       "Mining                                         NaN  0.00         NaN"
      ]
     },
     "metadata": {},
     "output_type": "display_data"
    },
    {
     "data": {
      "text/plain": [
       "'UnitedStates'"
      ]
     },
     "metadata": {},
     "output_type": "display_data"
    },
    {
     "data": {
      "text/html": [
       "<div>\n",
       "<table border=\"1\" class=\"dataframe\">\n",
       "  <thead>\n",
       "    <tr style=\"text-align: right;\">\n",
       "      <th>SEX</th>\n",
       "      <th>Female</th>\n",
       "      <th>Male</th>\n",
       "      <th>Difference</th>\n",
       "    </tr>\n",
       "    <tr>\n",
       "      <th>INDGEN</th>\n",
       "      <th></th>\n",
       "      <th></th>\n",
       "      <th></th>\n",
       "    </tr>\n",
       "  </thead>\n",
       "  <tbody>\n",
       "    <tr>\n",
       "      <th>Health and social work</th>\n",
       "      <td>0.16</td>\n",
       "      <td>0.04</td>\n",
       "      <td>-0.12</td>\n",
       "    </tr>\n",
       "    <tr>\n",
       "      <th>Construction</th>\n",
       "      <td>0.01</td>\n",
       "      <td>0.09</td>\n",
       "      <td>0.08</td>\n",
       "    </tr>\n",
       "    <tr>\n",
       "      <th>NIU (not in universe)</th>\n",
       "      <td>0.25</td>\n",
       "      <td>0.18</td>\n",
       "      <td>-0.07</td>\n",
       "    </tr>\n",
       "    <tr>\n",
       "      <th>Manufacturing</th>\n",
       "      <td>0.05</td>\n",
       "      <td>0.12</td>\n",
       "      <td>0.07</td>\n",
       "    </tr>\n",
       "    <tr>\n",
       "      <th>Education</th>\n",
       "      <td>0.11</td>\n",
       "      <td>0.05</td>\n",
       "      <td>-0.06</td>\n",
       "    </tr>\n",
       "    <tr>\n",
       "      <th>Transportation, storage and communications</th>\n",
       "      <td>0.03</td>\n",
       "      <td>0.07</td>\n",
       "      <td>0.04</td>\n",
       "    </tr>\n",
       "    <tr>\n",
       "      <th>Real estate and business services</th>\n",
       "      <td>0.08</td>\n",
       "      <td>0.11</td>\n",
       "      <td>0.03</td>\n",
       "    </tr>\n",
       "    <tr>\n",
       "      <th>Wholesale and retail trade</th>\n",
       "      <td>0.10</td>\n",
       "      <td>0.12</td>\n",
       "      <td>0.02</td>\n",
       "    </tr>\n",
       "    <tr>\n",
       "      <th>Public administration and defense</th>\n",
       "      <td>0.04</td>\n",
       "      <td>0.05</td>\n",
       "      <td>0.01</td>\n",
       "    </tr>\n",
       "    <tr>\n",
       "      <th>Financial services and insurance</th>\n",
       "      <td>0.04</td>\n",
       "      <td>0.03</td>\n",
       "      <td>-0.01</td>\n",
       "    </tr>\n",
       "    <tr>\n",
       "      <th>Private household services</th>\n",
       "      <td>0.01</td>\n",
       "      <td>0.00</td>\n",
       "      <td>-0.01</td>\n",
       "    </tr>\n",
       "    <tr>\n",
       "      <th>Mining</th>\n",
       "      <td>0.00</td>\n",
       "      <td>0.01</td>\n",
       "      <td>0.01</td>\n",
       "    </tr>\n",
       "    <tr>\n",
       "      <th>Electricity, gas and water</th>\n",
       "      <td>0.00</td>\n",
       "      <td>0.01</td>\n",
       "      <td>0.01</td>\n",
       "    </tr>\n",
       "    <tr>\n",
       "      <th>Agriculture, fishing, and forestry</th>\n",
       "      <td>0.01</td>\n",
       "      <td>0.02</td>\n",
       "      <td>0.01</td>\n",
       "    </tr>\n",
       "    <tr>\n",
       "      <th>Hotels and restaurants</th>\n",
       "      <td>0.06</td>\n",
       "      <td>0.05</td>\n",
       "      <td>-0.01</td>\n",
       "    </tr>\n",
       "    <tr>\n",
       "      <th>Other services</th>\n",
       "      <td>0.05</td>\n",
       "      <td>0.06</td>\n",
       "      <td>0.01</td>\n",
       "    </tr>\n",
       "  </tbody>\n",
       "</table>\n",
       "</div>"
      ],
      "text/plain": [
       "SEX                                         Female  Male  Difference\n",
       "INDGEN                                                              \n",
       "Health and social work                        0.16  0.04       -0.12\n",
       "Construction                                  0.01  0.09        0.08\n",
       "NIU (not in universe)                         0.25  0.18       -0.07\n",
       "Manufacturing                                 0.05  0.12        0.07\n",
       "Education                                     0.11  0.05       -0.06\n",
       "Transportation, storage and communications    0.03  0.07        0.04\n",
       "Real estate and business services             0.08  0.11        0.03\n",
       "Wholesale and retail trade                    0.10  0.12        0.02\n",
       "Public administration and defense             0.04  0.05        0.01\n",
       "Financial services and insurance              0.04  0.03       -0.01\n",
       "Private household services                    0.01  0.00       -0.01\n",
       "Mining                                        0.00  0.01        0.01\n",
       "Electricity, gas and water                    0.00  0.01        0.01\n",
       "Agriculture, fishing, and forestry            0.01  0.02        0.01\n",
       "Hotels and restaurants                        0.06  0.05       -0.01\n",
       "Other services                                0.05  0.06        0.01"
      ]
     },
     "metadata": {},
     "output_type": "display_data"
    }
   ],
   "source": [
    "for i in range(0, 5):\n",
    "    display(countryNames[i], ctab4[countryNames[i]].reindex(ctab4[countryNames[i]].Difference.abs().sort_values(ascending=False).index))"
   ]
  },
  {
   "cell_type": "markdown",
   "metadata": {},
   "source": [
    "## 3. Application\n",
    "\n",
    "Below we are going to take a look at each of the Blinder-Oaxaca decompositions. First we read in the results of our decompositions. The first set include occupation and industry as controls, while `two_fold_no_industry` does not. We will bring up the importance of that shortly."
   ]
  },
  {
   "cell_type": "code",
   "execution_count": 27,
   "metadata": {},
   "outputs": [],
   "source": [
    "three_fold = pd.read_csv('results/three_fold.csv')\n",
    "two_fold = pd.read_csv('results/two_fold.csv')\n",
    "\n",
    "two_fold_no_industry = pd.read_csv('results/two_fold_no_industry.csv')"
   ]
  },
  {
   "cell_type": "code",
   "execution_count": 28,
   "metadata": {},
   "outputs": [
    {
     "name": "stdout",
     "output_type": "stream",
     "text": [
      "Three-Fold Decomposition Results\n"
     ]
    },
    {
     "data": {
      "text/html": [
       "<div>\n",
       "<table border=\"1\" class=\"dataframe\">\n",
       "  <thead>\n",
       "    <tr style=\"text-align: right;\">\n",
       "      <th></th>\n",
       "      <th>Country</th>\n",
       "      <th>Group 1</th>\n",
       "      <th>Group 2</th>\n",
       "      <th>Gap</th>\n",
       "      <th>Endowments</th>\n",
       "      <th>Coefficients</th>\n",
       "      <th>Interaction</th>\n",
       "    </tr>\n",
       "  </thead>\n",
       "  <tbody>\n",
       "    <tr>\n",
       "      <th>0</th>\n",
       "      <td>Canada</td>\n",
       "      <td>10.234548</td>\n",
       "      <td>9.930791</td>\n",
       "      <td>0.303757</td>\n",
       "      <td>0.075403</td>\n",
       "      <td>0.223892</td>\n",
       "      <td>0.005010</td>\n",
       "    </tr>\n",
       "    <tr>\n",
       "      <th>1</th>\n",
       "      <td>Panama</td>\n",
       "      <td>8.577076</td>\n",
       "      <td>8.300325</td>\n",
       "      <td>0.276751</td>\n",
       "      <td>-0.000339</td>\n",
       "      <td>0.346114</td>\n",
       "      <td>-0.069024</td>\n",
       "    </tr>\n",
       "    <tr>\n",
       "      <th>2</th>\n",
       "      <td>PuertoRico</td>\n",
       "      <td>9.396607</td>\n",
       "      <td>9.142558</td>\n",
       "      <td>0.254050</td>\n",
       "      <td>-0.031305</td>\n",
       "      <td>0.264629</td>\n",
       "      <td>0.020725</td>\n",
       "    </tr>\n",
       "    <tr>\n",
       "      <th>3</th>\n",
       "      <td>UnitedStates</td>\n",
       "      <td>10.214523</td>\n",
       "      <td>9.768357</td>\n",
       "      <td>0.446166</td>\n",
       "      <td>0.032713</td>\n",
       "      <td>0.352656</td>\n",
       "      <td>0.060606</td>\n",
       "    </tr>\n",
       "    <tr>\n",
       "      <th>4</th>\n",
       "      <td>Brazil</td>\n",
       "      <td>9.175472</td>\n",
       "      <td>8.753409</td>\n",
       "      <td>0.422063</td>\n",
       "      <td>0.098009</td>\n",
       "      <td>0.373664</td>\n",
       "      <td>-0.049650</td>\n",
       "    </tr>\n",
       "  </tbody>\n",
       "</table>\n",
       "</div>"
      ],
      "text/plain": [
       "        Country    Group 1   Group 2       Gap  Endowments  Coefficients  \\\n",
       "0        Canada  10.234548  9.930791  0.303757    0.075403      0.223892   \n",
       "1        Panama   8.577076  8.300325  0.276751   -0.000339      0.346114   \n",
       "2    PuertoRico   9.396607  9.142558  0.254050   -0.031305      0.264629   \n",
       "3  UnitedStates  10.214523  9.768357  0.446166    0.032713      0.352656   \n",
       "4        Brazil   9.175472  8.753409  0.422063    0.098009      0.373664   \n",
       "\n",
       "   Interaction  \n",
       "0     0.005010  \n",
       "1    -0.069024  \n",
       "2     0.020725  \n",
       "3     0.060606  \n",
       "4    -0.049650  "
      ]
     },
     "metadata": {},
     "output_type": "display_data"
    },
    {
     "name": "stdout",
     "output_type": "stream",
     "text": [
      "Two-Fold Decomposition Results\n"
     ]
    },
    {
     "data": {
      "text/html": [
       "<div>\n",
       "<table border=\"1\" class=\"dataframe\">\n",
       "  <thead>\n",
       "    <tr style=\"text-align: right;\">\n",
       "      <th></th>\n",
       "      <th>Country</th>\n",
       "      <th>Group 1</th>\n",
       "      <th>Group 2</th>\n",
       "      <th>Gap</th>\n",
       "      <th>Explained</th>\n",
       "      <th>Unexplained</th>\n",
       "    </tr>\n",
       "  </thead>\n",
       "  <tbody>\n",
       "    <tr>\n",
       "      <th>0</th>\n",
       "      <td>Canada</td>\n",
       "      <td>10.234548</td>\n",
       "      <td>9.930791</td>\n",
       "      <td>0.303757</td>\n",
       "      <td>0.078782</td>\n",
       "      <td>0.225523</td>\n",
       "    </tr>\n",
       "    <tr>\n",
       "      <th>1</th>\n",
       "      <td>Panama</td>\n",
       "      <td>8.577076</td>\n",
       "      <td>8.300325</td>\n",
       "      <td>0.276751</td>\n",
       "      <td>-0.052990</td>\n",
       "      <td>0.329741</td>\n",
       "    </tr>\n",
       "    <tr>\n",
       "      <th>2</th>\n",
       "      <td>PuertoRico</td>\n",
       "      <td>9.396607</td>\n",
       "      <td>9.142558</td>\n",
       "      <td>0.254050</td>\n",
       "      <td>-0.044081</td>\n",
       "      <td>0.298131</td>\n",
       "    </tr>\n",
       "    <tr>\n",
       "      <th>3</th>\n",
       "      <td>UnitedStates</td>\n",
       "      <td>10.214523</td>\n",
       "      <td>9.768357</td>\n",
       "      <td>0.446166</td>\n",
       "      <td>0.050607</td>\n",
       "      <td>0.395368</td>\n",
       "    </tr>\n",
       "    <tr>\n",
       "      <th>4</th>\n",
       "      <td>Brazil</td>\n",
       "      <td>9.175472</td>\n",
       "      <td>8.753409</td>\n",
       "      <td>0.422063</td>\n",
       "      <td>0.054778</td>\n",
       "      <td>0.367221</td>\n",
       "    </tr>\n",
       "  </tbody>\n",
       "</table>\n",
       "</div>"
      ],
      "text/plain": [
       "        Country    Group 1   Group 2       Gap  Explained  Unexplained\n",
       "0        Canada  10.234548  9.930791  0.303757   0.078782     0.225523\n",
       "1        Panama   8.577076  8.300325  0.276751  -0.052990     0.329741\n",
       "2    PuertoRico   9.396607  9.142558  0.254050  -0.044081     0.298131\n",
       "3  UnitedStates  10.214523  9.768357  0.446166   0.050607     0.395368\n",
       "4        Brazil   9.175472  8.753409  0.422063   0.054778     0.367221"
      ]
     },
     "metadata": {},
     "output_type": "display_data"
    }
   ],
   "source": [
    "print('Three-Fold Decomposition Results')\n",
    "display(three_fold)\n",
    "print('Two-Fold Decomposition Results')\n",
    "display(two_fold)"
   ]
  },
  {
   "cell_type": "markdown",
   "metadata": {},
   "source": [
    "In the following graph, we are make a comparison between the pay gaps in countries and the components that make them up from the decompositions. We start with the three-fold. If a bar is below zero, that means its value was negative, and that it works in favor of the females. So for example, for Puerto-Rico, we see that the endowments are below zero, which means that the women in that country have greater endowments than the men.\n",
    "\n",
    "The sum of the components is the gray bar to the right.\n",
    "\n",
    "For most of the countries, it appears that the majority of the gap is from the coefficients, meaning that the women are likely to have the same behaviors as the men, but get less returns from them."
   ]
  },
  {
   "cell_type": "code",
   "execution_count": 29,
   "metadata": {},
   "outputs": [
    {
     "data": {
      "image/png": "[encoded data removed]",
      "text/plain": [
       "<matplotlib.figure.Figure at 0x11674cb38>"
      ]
     },
     "metadata": {},
     "output_type": "display_data"
    }
   ],
   "source": [
    "three_fold.index = three_fold['Country']\n",
    "three_fold[['Endowments', 'Coefficients', 'Interaction']].plot.bar(stacked=True, figsize=(10,7))\n",
    "plt.axhline(y=0, c='grey', linestyle='--')\n",
    "plt.bar(plt.xticks()[0]+.25, three_fold['Gap'], width=.25, color='grey', label='Full Gap')\n",
    "plt.ylabel('Log Wage (our gap)')\n",
    "plt.legend()\n",
    "plt.title('Three-Fold Blinder-Oaxaca Decomposition');"
   ]
  },
  {
   "cell_type": "markdown",
   "metadata": {},
   "source": [
    "Below is the two-fold, which is the version commonly used in discrimination literature. We see that the unexplained portion is larger than the explained for all countries. We do need to keep in mind one of the key assumptions of this model -- that the unexplained can also capture the effects of having poor predictors (or not enough included, which is likely our case). So in our comparisons, it may be helpful to just include relative terms, that is, comparing the level of unexplained to other countries (which works because we have standardized explanatory variables)."
   ]
  },
  {
   "cell_type": "code",
   "execution_count": 30,
   "metadata": {},
   "outputs": [
    {
     "data": {
      "image/png": "[encoded data removed]",
      "text/plain": [
       "<matplotlib.figure.Figure at 0x11682b940>"
      ]
     },
     "metadata": {},
     "output_type": "display_data"
    }
   ],
   "source": [
    "two_fold.index = two_fold['Country']\n",
    "two_fold[['Explained', 'Unexplained']].plot.bar(stacked=True, figsize=(10,7))\n",
    "plt.axhline(y=0, c='grey', linestyle='--')\n",
    "plt.bar(plt.xticks()[0]+.25, two_fold['Gap'], width=.25, color='grey', label='Full Gap')\n",
    "plt.ylabel('Log Wage (our gap)')\n",
    "plt.legend()\n",
    "plt.title('Two-Fold Blinder-Oaxaca Decomposition');"
   ]
  },
  {
   "cell_type": "markdown",
   "metadata": {},
   "source": [
    "In this graph, we compare the unexplained  amount between the the two-fold decomposition where we do and don't include industry and occupation controls. It is commonly cited that including those controls overaccounts for instances of glass-ceilings and individuals being excluded from certain industries. So we would expect the actual level of discrimination to lie between the two values (the controlled and uncontrolled)."
   ]
  },
  {
   "cell_type": "code",
   "execution_count": 31,
   "metadata": {
    "scrolled": false
   },
   "outputs": [
    {
     "data": {
      "image/png": "[encoded data removed]",
      "text/plain": [
       "<matplotlib.figure.Figure at 0x1168c8080>"
      ]
     },
     "metadata": {},
     "output_type": "display_data"
    }
   ],
   "source": [
    "two_fold[['Unexplained']].plot.bar(figsize=(10,7), label='Including Industry', width=.25)\n",
    "plt.bar(plt.xticks()[0]+.125, two_fold_no_industry['Unexplained'], width=.25, color='grey', label='No Industry')\n",
    "plt.xticks(rotation=70)\n",
    "plt.ylabel('Log Wage (our gap)')\n",
    "plt.legend()\n",
    "plt.title('Blinder-Oaxaca Decomposition - Industry/Occupation included vs Industry/Occupation not included');"
   ]
  },
  {
   "cell_type": "markdown",
   "metadata": {},
   "source": [
    "In our final graph, we compare our unexplained value to the World Economic Forum's adjusted pay gap score. We take the relative proportion of the gap that is unexplained, and plot it on the x-axis against their index. You'll notice that there is a lot more variation in our value, but it is hard to make a good comparison when we only have four points (there was not score for Puerto Rico)."
   ]
  },
  {
   "cell_type": "code",
   "execution_count": 32,
   "metadata": {},
   "outputs": [
    {
     "data": {
      "image/png": "[encoded data removed]",
      "text/plain": [
       "<matplotlib.figure.Figure at 0x10318b0b8>"
      ]
     },
     "metadata": {},
     "output_type": "display_data"
    }
   ],
   "source": [
    "WEF_2016 = pd.read_csv(\"data/WEF.csv\")[['Country', 'score']]\n",
    "WEF_2016['Unexplained'] = list((two_fold['Unexplained']/two_fold['Gap']).drop('PuertoRico'))\n",
    "WEF_2016.plot(kind='scatter', y='score', x='Unexplained')\n",
    "plt.ylabel('WEF SCORE')\n",
    "plt.xlabel('UNEXPLAINED ')\n",
    "plt.title('WEF Gender Pay Gap score vs Proportion of Gap that is Unexplained');"
   ]
  },
  {
   "cell_type": "markdown",
   "metadata": {},
   "source": [
    "It is helpful to look at the not only the gaps, but the relative importance of each of the factors (i.e. education) in the gaps would probably be more important in making policy decisions based on these types of decompositions. If we were to go forward further with the project, that would be our focus."
   ]
  },
  {
   "cell_type": "markdown",
   "metadata": {},
   "source": [
    "### Additional Caveats:  \n",
    "\n",
    "* Person weights were not included in our analysis.  As a result, the samples aren't necessarily reflective of the populations from which they were drawn.  Future analysis could incorporate the weights.  \n",
    "* Another problem our analysis suffers from is Omitted Variable Bias.  IPUMS is helpful because it tries to standardize variables across countries; however, this limmited the availability of variables we would have wished to include and control for in our regressions.  For example, we would have wanted to include a person's work experience and further broken down education levels.\n",
    "* We make the assumption that discrimination lies mainly in unexplained, and doesn't spill over too much to endowments (for example, if women are denied access to school, that might be mainly captured in endowments, but that is cleary a discrimination issue)."
   ]
  },
  {
   "cell_type": "markdown",
   "metadata": {},
   "source": [
    "# Group Contributions:  \n",
    "\n",
    "Christopher worked on importing and cleaning the data from IPUMS.  He also created the visualizations and crosstabs.  Ronald created a package implementing Blinder-Oaxaca and wrote a description of the process.  He also ran the regressions using his package.  \n",
    "\n",
    "Both partners contributed to the other aspects of the project including written analysis and descriptions."
   ]
  },
  {
   "cell_type": "markdown",
   "metadata": {},
   "source": [
    "**Citations:**\n",
    "\n",
    "Jann, Ben, 2008. \"<a href=\"https://EconPapers.repec.org/RePEc:ets:wpaper:5\">A Stata implementation of the Blinder-Oaxaca decomposition</a>\", No 5, ETH Zurich Sociology Working Papers, ETH Zurich, Chair of Sociology.\n",
    "\n",
    "Kennedy, Peter & Jutta Heinrichs, 2007. \"A Computational Trick for Calculating the Blinder-Oaxaca Decomposition and Its Standard Error,\" Economics Bulletin, AccessEcon, vol. 3(66), pages 1-7.  \n",
    "\n",
    "Minnesota Population Center. Integrated Public Use Microdata Series, International: Version 7.0 [dataset]. Minneapolis, MN: IPUMS, 2018. http://doi.org/10.18128/D020.V7.0."
   ]
  }
 ],
 "metadata": {
  "anaconda-cloud": {},
  "kernelspec": {
   "display_name": "Python [Root]",
   "language": "python",
   "name": "Python [Root]"
  },
  "language_info": {
   "codemirror_mode": {
    "name": "ipython",
    "version": 3
   },
   "file_extension": ".py",
   "mimetype": "text/x-python",
   "name": "python",
   "nbconvert_exporter": "python",
   "pygments_lexer": "ipython3",
   "version": "3.5.2"
  }
 },
 "nbformat": 4,
 "nbformat_minor": 2
}
