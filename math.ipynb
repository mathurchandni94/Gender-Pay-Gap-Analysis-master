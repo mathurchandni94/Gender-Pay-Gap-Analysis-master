{
 "cells": [
  {
   "cell_type": "code",
   "execution_count": 4,
   "metadata": {
    "collapsed": true
   },
   "outputs": [],
   "source": [
    "# imports\n",
    "import numpy as np\n",
    "import pandas as pd\n",
    "import statsmodels.api as sm\n",
    "from statsmodels.iolib.table import SimpleTable"
   ]
  },
  {
   "cell_type": "markdown",
   "metadata": {},
   "source": [
    "## Reading Data\n",
    "\n",
    "Reading in the data from Canada and adding a constant."
   ]
  },
  {
   "cell_type": "code",
   "execution_count": 45,
   "metadata": {
    "collapsed": false
   },
   "outputs": [
    {
     "name": "stdout",
     "output_type": "stream",
     "text": [
      "(724237, 10)\n"
     ]
    },
    {
     "data": {
      "text/html": [
       "<div>\n",
       "<table border=\"1\" class=\"dataframe\">\n",
       "  <thead>\n",
       "    <tr style=\"text-align: right;\">\n",
       "      <th></th>\n",
       "      <th>AGE</th>\n",
       "      <th>MARST</th>\n",
       "      <th>NATIVITY</th>\n",
       "      <th>EDATTAIN</th>\n",
       "      <th>EMPSTAT</th>\n",
       "      <th>OCCISCO</th>\n",
       "      <th>INDGEN</th>\n",
       "      <th>INCTOT</th>\n",
       "      <th>constant</th>\n",
       "      <th>female</th>\n",
       "    </tr>\n",
       "  </thead>\n",
       "  <tbody>\n",
       "    <tr>\n",
       "      <th>0</th>\n",
       "      <td>72</td>\n",
       "      <td>Widowed</td>\n",
       "      <td>Native-born</td>\n",
       "      <td>Less than primary completed</td>\n",
       "      <td>Inactive</td>\n",
       "      <td>NIU (not in universe)</td>\n",
       "      <td>NIU (not in universe)</td>\n",
       "      <td>9.961756</td>\n",
       "      <td>1</td>\n",
       "      <td>0.0</td>\n",
       "    </tr>\n",
       "    <tr>\n",
       "      <th>1</th>\n",
       "      <td>32</td>\n",
       "      <td>Single/never married</td>\n",
       "      <td>Native-born</td>\n",
       "      <td>Secondary completed</td>\n",
       "      <td>Employed</td>\n",
       "      <td>Crafts and related trades workers</td>\n",
       "      <td>Other services</td>\n",
       "      <td>10.694215</td>\n",
       "      <td>1</td>\n",
       "      <td>0.0</td>\n",
       "    </tr>\n",
       "    <tr>\n",
       "      <th>2</th>\n",
       "      <td>40</td>\n",
       "      <td>Married/in union</td>\n",
       "      <td>Native-born</td>\n",
       "      <td>Secondary completed</td>\n",
       "      <td>Employed</td>\n",
       "      <td>Clerks</td>\n",
       "      <td>Public administration and defense</td>\n",
       "      <td>10.956056</td>\n",
       "      <td>1</td>\n",
       "      <td>0.0</td>\n",
       "    </tr>\n",
       "    <tr>\n",
       "      <th>3</th>\n",
       "      <td>37</td>\n",
       "      <td>Married/in union</td>\n",
       "      <td>Native-born</td>\n",
       "      <td>Secondary completed</td>\n",
       "      <td>Employed</td>\n",
       "      <td>Technicians and associate professionals</td>\n",
       "      <td>Wholesale and retail trade</td>\n",
       "      <td>10.515967</td>\n",
       "      <td>1</td>\n",
       "      <td>1.0</td>\n",
       "    </tr>\n",
       "    <tr>\n",
       "      <th>4</th>\n",
       "      <td>51</td>\n",
       "      <td>Married/in union</td>\n",
       "      <td>Native-born</td>\n",
       "      <td>Secondary completed</td>\n",
       "      <td>Employed</td>\n",
       "      <td>Technicians and associate professionals</td>\n",
       "      <td>Transportation, storage and communications</td>\n",
       "      <td>10.138560</td>\n",
       "      <td>1</td>\n",
       "      <td>1.0</td>\n",
       "    </tr>\n",
       "  </tbody>\n",
       "</table>\n",
       "</div>"
      ],
      "text/plain": [
       "   AGE                 MARST     NATIVITY                     EDATTAIN  \\\n",
       "0   72               Widowed  Native-born  Less than primary completed   \n",
       "1   32  Single/never married  Native-born          Secondary completed   \n",
       "2   40      Married/in union  Native-born          Secondary completed   \n",
       "3   37      Married/in union  Native-born          Secondary completed   \n",
       "4   51      Married/in union  Native-born          Secondary completed   \n",
       "\n",
       "    EMPSTAT                                  OCCISCO  \\\n",
       "0  Inactive                    NIU (not in universe)   \n",
       "1  Employed        Crafts and related trades workers   \n",
       "2  Employed                                   Clerks   \n",
       "3  Employed  Technicians and associate professionals   \n",
       "4  Employed  Technicians and associate professionals   \n",
       "\n",
       "                                       INDGEN     INCTOT  constant  female  \n",
       "0                       NIU (not in universe)   9.961756         1     0.0  \n",
       "1                              Other services  10.694215         1     0.0  \n",
       "2           Public administration and defense  10.956056         1     0.0  \n",
       "3                  Wholesale and retail trade  10.515967         1     1.0  \n",
       "4  Transportation, storage and communications  10.138560         1     1.0  "
      ]
     },
     "execution_count": 45,
     "metadata": {},
     "output_type": "execute_result"
    }
   ],
   "source": [
    "df = pd.read_csv('Canada.csv').drop(['COUNTRY', 'PERWT'], axis=1)\n",
    "df['constant'] = 1\n",
    "df['female'] = (df['SEX'] == 'Female').astype(float)\n",
    "df.drop('SEX', axis=1, inplace=True)\n",
    "print(df.shape)\n",
    "df.head()"
   ]
  },
  {
   "cell_type": "code",
   "execution_count": 46,
   "metadata": {
    "collapsed": true,
    "scrolled": false
   },
   "outputs": [],
   "source": [
    "# adding dummy variables for categorical vars, and dropping the first one to remove colinearity\n",
    "dummies = pd.get_dummies(df[['MARST', 'NATIVITY', 'EDATTAIN', 'EMPSTAT', 'OCCISCO', 'INDGEN']], drop_first=True)\n",
    "df = pd.concat([df[['INCTOT']], dummies, df[['female', 'AGE', 'constant']]], axis=1)"
   ]
  },
  {
   "cell_type": "code",
   "execution_count": 108,
   "metadata": {
    "collapsed": true
   },
   "outputs": [],
   "source": [
    "# exported so that we could compare to Stata\n",
    "#df.to_csv('modified_canada.csv', index=False)"
   ]
  },
  {
   "cell_type": "markdown",
   "metadata": {},
   "source": [
    "### Blinder-Oaxaca Prep"
   ]
  },
  {
   "cell_type": "markdown",
   "metadata": {},
   "source": [
    "We need to split our data into two sets, one for females and one for males."
   ]
  },
  {
   "cell_type": "code",
   "execution_count": 24,
   "metadata": {
    "collapsed": true,
    "scrolled": true
   },
   "outputs": [],
   "source": [
    "male = df[df['female']==0].reset_index(drop=True).drop('female', axis=1)\n",
    "female = df[df['female']==1].reset_index(drop=True).drop('female', axis=1)\n",
    "\n",
    "Xm = male.drop('INCTOT', axis=1)\n",
    "Xf = female.drop('INCTOT', axis=1)\n",
    "Ym = male['INCTOT']\n",
    "Yf = female['INCTOT']"
   ]
  },
  {
   "cell_type": "markdown",
   "metadata": {},
   "source": [
    "We then use that to make two regression models, using `statsmodels`'s OLS."
   ]
  },
  {
   "cell_type": "code",
   "execution_count": 47,
   "metadata": {
    "collapsed": true
   },
   "outputs": [],
   "source": [
    "female_model = sm.OLS(Yf, Xf).fit()\n",
    "male_model = sm.OLS(Ym, Xm).fit()"
   ]
  },
  {
   "cell_type": "markdown",
   "metadata": {},
   "source": [
    "From these models, we are able to access $X_f$, $X_m$, $\\beta_f$, and $\\beta_m$, which are necessary to solve our equations. "
   ]
  },
  {
   "cell_type": "code",
   "execution_count": 49,
   "metadata": {
    "collapsed": true
   },
   "outputs": [],
   "source": [
    "Bf = female_model.params\n",
    "Bm = male_model.params"
   ]
  },
  {
   "cell_type": "markdown",
   "metadata": {},
   "source": [
    "## Decomposition\n",
    "\n",
    "Our goal is to attribute the gap between two groups to certain differences. The wage gap between males and females is defined as \n",
    "\n",
    "$$Gap = E[Wage_m] - E[Wage_f]$$\n",
    "\n",
    "The gap is computed below (remember that we are dealing with log wages)."
   ]
  },
  {
   "cell_type": "code",
   "execution_count": 66,
   "metadata": {
    "collapsed": false
   },
   "outputs": [
    {
     "data": {
      "text/plain": [
       "0.3037566274879566"
      ]
     },
     "execution_count": 66,
     "metadata": {},
     "output_type": "execute_result"
    }
   ],
   "source": [
    "male_mean = np.mean(Ym)\n",
    "female_mean = np.mean(Yf)\n",
    "\n",
    "gap = male_mean - female_mean\n",
    "gap"
   ]
  },
  {
   "cell_type": "markdown",
   "metadata": {},
   "source": [
    "### Three-fold Decomposition\n",
    "\n",
    "The three-fold decomposition is split into three parts, Endowments, Coefficients, and Interactions.\n",
    "\n",
    "$$Gap = Endowments + Coefficients + Interactions$$\n",
    "\n",
    "Those are calculated individually below.\n",
    "\n",
    "$$Endowments = (E[X_m]-E[X_f])'\\beta_f$$"
   ]
  },
  {
   "cell_type": "code",
   "execution_count": 93,
   "metadata": {
    "collapsed": false
   },
   "outputs": [
    {
     "data": {
      "text/plain": [
       "0.075722997634111083"
      ]
     },
     "execution_count": 93,
     "metadata": {},
     "output_type": "execute_result"
    }
   ],
   "source": [
    "endowments = np.transpose(np.mean(Xm) - np.mean(Xf)) @ np.array(Bf)\n",
    "endowments"
   ]
  },
  {
   "cell_type": "markdown",
   "metadata": {},
   "source": [
    "$$Coefficients = E[X_f]'(\\beta_m-\\beta_f)$$"
   ]
  },
  {
   "cell_type": "code",
   "execution_count": 92,
   "metadata": {
    "collapsed": false
   },
   "outputs": [
    {
     "data": {
      "text/plain": [
       "0.22345359683362187"
      ]
     },
     "execution_count": 92,
     "metadata": {},
     "output_type": "execute_result"
    }
   ],
   "source": [
    "coefficients = np.transpose(np.mean(Xf)) @ np.array(Bm - Bf)\n",
    "coefficients"
   ]
  },
  {
   "cell_type": "markdown",
   "metadata": {},
   "source": [
    "$$Interactions = (E[X_m]-E[X_f])'(\\beta_m-\\beta_f)$$"
   ]
  },
  {
   "cell_type": "code",
   "execution_count": 69,
   "metadata": {
    "collapsed": false
   },
   "outputs": [
    {
     "data": {
      "text/plain": [
       "0.0045800330209516734"
      ]
     },
     "execution_count": 69,
     "metadata": {},
     "output_type": "execute_result"
    }
   ],
   "source": [
    "interaction = np.transpose(np.mean(Xm) - np.mean(Xf)) @ np.array(Bm - Bf)\n",
    "interaction"
   ]
  },
  {
   "cell_type": "markdown",
   "metadata": {},
   "source": [
    "We are able to individually solve for the contribution from the coefficients. We calculate the contribution that comes from each variable for endowments in the cell below."
   ]
  },
  {
   "cell_type": "code",
   "execution_count": 72,
   "metadata": {
    "collapsed": false
   },
   "outputs": [
    {
     "data": {
      "text/plain": [
       "MARST_Separated/divorced/spouse absent               -0.002493\n",
       "MARST_Single/never married                           -0.011740\n",
       "MARST_Widowed                                        -0.019391\n",
       "NATIVITY_Native-born                                  0.001543\n",
       "NATIVITY_Unknown/missing                              0.000001\n",
       "EDATTAIN_Secondary completed                          0.003757\n",
       "EDATTAIN_University completed                        -0.010440\n",
       "EMPSTAT_Inactive                                      0.047626\n",
       "EMPSTAT_Unemployed                                   -0.005272\n",
       "OCCISCO_Crafts and related trades workers             0.018959\n",
       "OCCISCO_Elementary occupations                       -0.005013\n",
       "OCCISCO_Legislators, senior officials and managers    0.023513\n",
       "OCCISCO_NIU (not in universe)                         0.006788\n",
       "OCCISCO_Plant and machine operators and assemblers   -0.004656\n",
       "OCCISCO_Professionals                                -0.009733\n",
       "OCCISCO_Service workers and shop and market sales     0.004779\n",
       "OCCISCO_Skilled agricultural and fishery workers     -0.000789\n",
       "OCCISCO_Technicians and associate professionals      -0.013582\n",
       "INDGEN_Construction                                   0.039138\n",
       "INDGEN_Education                                     -0.012373\n",
       "INDGEN_Electricity, gas and water                     0.006194\n",
       "INDGEN_Financial services and insurance              -0.008863\n",
       "INDGEN_Health and social work                        -0.045289\n",
       "INDGEN_Hotels and restaurants                        -0.003067\n",
       "INDGEN_Manufacturing                                  0.038340\n",
       "INDGEN_Mining                                         0.012074\n",
       "INDGEN_NIU (not in universe)                          0.006788\n",
       "INDGEN_Other services                                 0.000454\n",
       "INDGEN_Public administration and defense              0.003750\n",
       "INDGEN_Real estate and business services              0.011078\n",
       "INDGEN_Transportation, storage and communications     0.020811\n",
       "INDGEN_Wholesale and retail trade                     0.004051\n",
       "AGE                                                  -0.021220\n",
       "constant                                              0.000000\n",
       "dtype: float64"
      ]
     },
     "execution_count": 72,
     "metadata": {},
     "output_type": "execute_result"
    }
   ],
   "source": [
    "# variable contributions to endowments\n",
    "(np.mean(Xm) - np.mean(Xf)) * Bf"
   ]
  },
  {
   "cell_type": "markdown",
   "metadata": {},
   "source": [
    "### Two-fold Decomposition\n",
    "\n",
    "$$Gap = Explained + Unexplained$$\n",
    "\n",
    "First we have to calculate our pooled model, from which we will get our $\\beta^*$."
   ]
  },
  {
   "cell_type": "code",
   "execution_count": 87,
   "metadata": {
    "collapsed": true
   },
   "outputs": [],
   "source": [
    "pooled_model = sm.OLS(df['INCTOT'], df.drop('INCTOT', axis=1)).fit()\n",
    "B_star = pooled_model.params.drop('female')"
   ]
  },
  {
   "cell_type": "markdown",
   "metadata": {},
   "source": [
    "$$E = (E[X_m]-E[X_f])\\beta^* $$"
   ]
  },
  {
   "cell_type": "code",
   "execution_count": 100,
   "metadata": {
    "collapsed": false,
    "scrolled": true
   },
   "outputs": [
    {
     "data": {
      "text/plain": [
       "0.078886205651931746"
      ]
     },
     "execution_count": 100,
     "metadata": {},
     "output_type": "execute_result"
    }
   ],
   "source": [
    "explained = np.transpose(np.mean(Xm) - np.mean(Xf)) @ np.array(B_star)\n",
    "explained"
   ]
  },
  {
   "cell_type": "markdown",
   "metadata": {},
   "source": [
    "$$U = E[X_m]'(\\beta_m-\\beta^*) + E[X_f]'(\\beta^*-\\beta_f) $$"
   ]
  },
  {
   "cell_type": "code",
   "execution_count": 99,
   "metadata": {
    "collapsed": false
   },
   "outputs": [
    {
     "data": {
      "text/plain": [
       "0.22487042183675293"
      ]
     },
     "execution_count": 99,
     "metadata": {},
     "output_type": "execute_result"
    }
   ],
   "source": [
    "unexplained = np.transpose(np.mean(Xm)) @ np.array(Bm-B_star) + np.transpose(np.mean(Xf)) @ np.array(B_star-Bf)\n",
    "unexplained"
   ]
  },
  {
   "cell_type": "markdown",
   "metadata": {},
   "source": [
    "## Summary Tables"
   ]
  },
  {
   "cell_type": "markdown",
   "metadata": {},
   "source": [
    "We use the `statsmodels` implementation of `SimpleTable` to build our summary tables. We compare our results to Stata's outputs using the same data."
   ]
  },
  {
   "cell_type": "code",
   "execution_count": 103,
   "metadata": {
    "collapsed": false
   },
   "outputs": [
    {
     "data": {
      "text/html": [
       "<table class=\"simpletable\">\n",
       "<caption>Blinder-Oaxaca Decomposition: Three-Fold</caption>\n",
       "<tr>\n",
       "        <td></td>              <th>Coef.</th>      \n",
       "</tr>\n",
       "<tr>\n",
       "  <th>group_1</th>      <td>10.234547702209856</td>\n",
       "</tr>\n",
       "<tr>\n",
       "  <th>group_2</th>       <td>9.930791074721899</td>\n",
       "</tr>\n",
       "<tr>\n",
       "  <th>difference</th>   <td>0.3037566274879566</td>\n",
       "</tr>\n",
       "<tr>\n",
       "  <th>endowments</th>     <td>0.0757229976341</td> \n",
       "</tr>\n",
       "<tr>\n",
       "  <th>coefficients</th>   <td>0.223453596834</td>  \n",
       "</tr>\n",
       "<tr>\n",
       "  <th>interaction</th>   <td>0.00458003302095</td> \n",
       "</tr>\n",
       "</table>"
      ],
      "text/plain": [
       "<class 'statsmodels.iolib.table.SimpleTable'>"
      ]
     },
     "execution_count": 103,
     "metadata": {},
     "output_type": "execute_result"
    }
   ],
   "source": [
    "mydata = [[group1], [group2], [difference], [endowments], [coefficients], [interaction]]\n",
    "myheaders = [\"Coef.\"]#, \"Std. Err.\", \"z\"\n",
    "mystubs = [\"group_1\", \"group_2\", \"difference\", \"endowments\", \"coefficients\", \"interaction\"]\n",
    "tbl = SimpleTable(mydata, myheaders, mystubs, title=\"Blinder-Oaxaca Decomposition: Three-Fold\")\n",
    "tbl"
   ]
  },
  {
   "cell_type": "markdown",
   "metadata": {},
   "source": [
    "![](images/three-fold.png)"
   ]
  },
  {
   "cell_type": "code",
   "execution_count": 102,
   "metadata": {
    "collapsed": false
   },
   "outputs": [
    {
     "data": {
      "text/html": [
       "<table class=\"simpletable\">\n",
       "<caption>Blinder-Oaxaca Decomposition: Pooled</caption>\n",
       "<tr>\n",
       "       <td></td>              <th>Coef.</th>      \n",
       "</tr>\n",
       "<tr>\n",
       "  <th>group_1</th>     <td>10.234547702209856</td>\n",
       "</tr>\n",
       "<tr>\n",
       "  <th>group_2</th>      <td>9.930791074721899</td>\n",
       "</tr>\n",
       "<tr>\n",
       "  <th>difference</th>  <td>0.3037566274879566</td>\n",
       "</tr>\n",
       "<tr>\n",
       "  <th>explained</th>     <td>0.0788862056519</td> \n",
       "</tr>\n",
       "<tr>\n",
       "  <th>unexplained</th>   <td>0.224870421837</td>  \n",
       "</tr>\n",
       "</table>"
      ],
      "text/plain": [
       "<class 'statsmodels.iolib.table.SimpleTable'>"
      ]
     },
     "execution_count": 102,
     "metadata": {},
     "output_type": "execute_result"
    }
   ],
   "source": [
    "mydata = [[group1], [group2], [difference], [explained], [unexplained]]\n",
    "myheaders = [\"Coef.\"]#, \"Std. Err.\", \"z\"\n",
    "mystubs = [\"group_1\", \"group_2\", \"difference\", \"explained\", \"unexplained\"]\n",
    "tbl = SimpleTable(mydata, myheaders, mystubs, title=\"Blinder-Oaxaca Decomposition: Pooled\")\n",
    "tbl"
   ]
  },
  {
   "cell_type": "markdown",
   "metadata": {},
   "source": [
    "![](images/pooled.png)"
   ]
  },
  {
   "cell_type": "code",
   "execution_count": 44,
   "metadata": {
    "collapsed": false
   },
   "outputs": [
    {
     "data": {
      "text/html": [
       "<table class=\"simpletable\">\n",
       "<caption>Blinder-Oaxaca Decomposition - $C$</caption>\n",
       "<tr>\n",
       "                           <td></td>                                 <th>Coef.</th>      \n",
       "</tr>\n",
       "<tr>\n",
       "  <th>MARST_Separated/divorced/spouse absent</th>              <td>-0.0271724652886</td> \n",
       "</tr>\n",
       "<tr>\n",
       "  <th>MARST_Single/never married</th>                          <td>-0.0585922945188</td> \n",
       "</tr>\n",
       "<tr>\n",
       "  <th>MARST_Widowed</th>                                       <td>-0.0235621121724</td> \n",
       "</tr>\n",
       "<tr>\n",
       "  <th>NATIVITY_Native-born</th>                                 <td>0.101755124514</td>  \n",
       "</tr>\n",
       "<tr>\n",
       "  <th>NATIVITY_Unknown/missing</th>                           <td>-1.44134985957e-06</td>\n",
       "</tr>\n",
       "<tr>\n",
       "  <th>EDATTAIN_Secondary completed</th>                         <td>0.031518105719</td>  \n",
       "</tr>\n",
       "<tr>\n",
       "  <th>EDATTAIN_University completed</th>                       <td>0.00781105200052</td> \n",
       "</tr>\n",
       "<tr>\n",
       "  <th>EMPSTAT_Inactive</th>                                     <td>0.017192818169</td>  \n",
       "</tr>\n",
       "<tr>\n",
       "  <th>EMPSTAT_Unemployed</th>                                  <td>-0.00269069173622</td>\n",
       "</tr>\n",
       "<tr>\n",
       "  <th>OCCISCO_Crafts and related trades workers</th>           <td>0.000563035836238</td>\n",
       "</tr>\n",
       "<tr>\n",
       "  <th>OCCISCO_Elementary occupations</th>                      <td>0.00309331114616</td> \n",
       "</tr>\n",
       "<tr>\n",
       "  <th>OCCISCO_Legislators, senior officials and managers</th>  <td>-0.00412107548391</td>\n",
       "</tr>\n",
       "<tr>\n",
       "  <th>OCCISCO_NIU (not in universe)</th>                        <td>0.0070276638746</td> \n",
       "</tr>\n",
       "<tr>\n",
       "  <th>OCCISCO_Plant and machine operators and assemblers</th>  <td>0.00173214027584</td> \n",
       "</tr>\n",
       "<tr>\n",
       "  <th>OCCISCO_Professionals</th>                               <td>-0.00619837653409</td>\n",
       "</tr>\n",
       "<tr>\n",
       "  <th>OCCISCO_Service workers and shop and market sales</th>    <td>0.0176759673084</td> \n",
       "</tr>\n",
       "<tr>\n",
       "  <th>OCCISCO_Skilled agricultural and fishery workers</th>    <td>0.00103531229952</td> \n",
       "</tr>\n",
       "<tr>\n",
       "  <th>OCCISCO_Technicians and associate professionals</th>      <td>0.0149202940798</td> \n",
       "</tr>\n",
       "<tr>\n",
       "  <th>INDGEN_Construction</th>                                <td>-0.000472473310687</td>\n",
       "</tr>\n",
       "<tr>\n",
       "  <th>INDGEN_Education</th>                                    <td>-0.00316213143077</td>\n",
       "</tr>\n",
       "<tr>\n",
       "  <th>INDGEN_Electricity, gas and water</th>                  <td>-0.000152924645663</td>\n",
       "</tr>\n",
       "<tr>\n",
       "  <th>INDGEN_Financial services and insurance</th>             <td>-0.00138993192726</td>\n",
       "</tr>\n",
       "<tr>\n",
       "  <th>INDGEN_Health and social work</th>                       <td>0.00471712491362</td> \n",
       "</tr>\n",
       "<tr>\n",
       "  <th>INDGEN_Hotels and restaurants</th>                       <td>-0.00406021082359</td>\n",
       "</tr>\n",
       "<tr>\n",
       "  <th>INDGEN_Manufacturing</th>                                <td>-0.00073261726072</td>\n",
       "</tr>\n",
       "<tr>\n",
       "  <th>INDGEN_Mining</th>                                       <td>0.000556137497919</td>\n",
       "</tr>\n",
       "<tr>\n",
       "  <th>INDGEN_NIU (not in universe)</th>                        <td>0.00702766387466</td> \n",
       "</tr>\n",
       "<tr>\n",
       "  <th>INDGEN_Other services</th>                               <td>0.00247121930267</td> \n",
       "</tr>\n",
       "<tr>\n",
       "  <th>INDGEN_Public administration and defense</th>            <td>0.00248933298589</td> \n",
       "</tr>\n",
       "<tr>\n",
       "  <th>INDGEN_Real estate and business services</th>            <td>-0.00297929235766</td>\n",
       "</tr>\n",
       "<tr>\n",
       "  <th>INDGEN_Transportation, storage and communications</th>   <td>-0.00170768363467</td>\n",
       "</tr>\n",
       "<tr>\n",
       "  <th>INDGEN_Wholesale and retail trade</th>                    <td>0.0071842159954</td> \n",
       "</tr>\n",
       "<tr>\n",
       "  <th>AGE</th>                                                  <td>0.139463641907</td>  \n",
       "</tr>\n",
       "<tr>\n",
       "  <th>constant</th>                                            <td>-0.00778484239151</td>\n",
       "</tr>\n",
       "</table>"
      ],
      "text/plain": [
       "<class 'statsmodels.iolib.table.SimpleTable'>"
      ]
     },
     "execution_count": 44,
     "metadata": {},
     "output_type": "execute_result"
    }
   ],
   "source": [
    "mydata = [[co] for co in cfs]  # data MUST be 2-dimensional\n",
    "myheaders = [ \"Coef.\"]#, \"Std. Err.\", \"z\"\n",
    "mystubs = list(cfs.index)\n",
    "tbl = SimpleTable(mydata, myheaders, mystubs, title=\"Blinder-Oaxaca Decomposition - $C$\")\n",
    "tbl"
   ]
  },
  {
   "cell_type": "code",
   "execution_count": 73,
   "metadata": {
    "collapsed": true
   },
   "outputs": [],
   "source": [
    "# coefficients\n",
    "cfs = np.mean(Xf) * (male_model.params - female_model.params)"
   ]
  },
  {
   "cell_type": "code",
   "execution_count": 57,
   "metadata": {
    "collapsed": false
   },
   "outputs": [
    {
     "data": {
      "text/plain": [
       "10.234547702209856"
      ]
     },
     "execution_count": 57,
     "metadata": {},
     "output_type": "execute_result"
    }
   ],
   "source": [
    "group1 = np.mean(Ym)\n",
    "group1"
   ]
  },
  {
   "cell_type": "code",
   "execution_count": 58,
   "metadata": {
    "collapsed": false
   },
   "outputs": [
    {
     "data": {
      "text/plain": [
       "9.930791074721899"
      ]
     },
     "execution_count": 58,
     "metadata": {},
     "output_type": "execute_result"
    }
   ],
   "source": [
    "group2 = np.mean(Yf)\n",
    "group2"
   ]
  },
  {
   "cell_type": "code",
   "execution_count": 59,
   "metadata": {
    "collapsed": false
   },
   "outputs": [
    {
     "data": {
      "text/plain": [
       "0.3037566274879566"
      ]
     },
     "execution_count": 59,
     "metadata": {},
     "output_type": "execute_result"
    }
   ],
   "source": [
    "difference = np.mean(Ym) - np.mean(Yf)\n",
    "difference"
   ]
  },
  {
   "cell_type": "code",
   "execution_count": 35,
   "metadata": {
    "collapsed": false
   },
   "outputs": [
    {
     "data": {
      "text/plain": [
       "2.1010798689470844"
      ]
     },
     "execution_count": 35,
     "metadata": {},
     "output_type": "execute_result"
    }
   ],
   "source": [
    "male_model.params.var()"
   ]
  },
  {
   "cell_type": "code",
   "execution_count": 36,
   "metadata": {
    "collapsed": false
   },
   "outputs": [
    {
     "data": {
      "text/plain": [
       "16.251015844938422"
      ]
     },
     "execution_count": 36,
     "metadata": {},
     "output_type": "execute_result"
    }
   ],
   "source": [
    "np.transpose(np.array(male_model.params)) @ np.array(Xm.var() + Xf.var())"
   ]
  },
  {
   "cell_type": "code",
   "execution_count": 37,
   "metadata": {
    "collapsed": false
   },
   "outputs": [
    {
     "data": {
      "text/plain": [
       "16.251015844938422"
      ]
     },
     "execution_count": 37,
     "metadata": {},
     "output_type": "execute_result"
    }
   ],
   "source": [
    "np.dot(np.transpose(np.array(male_model.params)),np.array(Xm.var() + Xf.var()))"
   ]
  },
  {
   "cell_type": "code",
   "execution_count": 38,
   "metadata": {
    "collapsed": false
   },
   "outputs": [
    {
     "ename": "ValueError",
     "evalue": "Scalar operands are not allowed, use '*' instead",
     "output_type": "error",
     "traceback": [
      "\u001b[0;31m---------------------------------------------------------------------------\u001b[0m",
      "\u001b[0;31mValueError\u001b[0m                                Traceback (most recent call last)",
      "\u001b[0;32m<ipython-input-38-d13be87e8963>\u001b[0m in \u001b[0;36m<module>\u001b[0;34m()\u001b[0m\n\u001b[0;32m----> 1\u001b[0;31m \u001b[0mnp\u001b[0m\u001b[0;34m.\u001b[0m\u001b[0mtranspose\u001b[0m\u001b[0;34m(\u001b[0m\u001b[0mnp\u001b[0m\u001b[0;34m.\u001b[0m\u001b[0marray\u001b[0m\u001b[0;34m(\u001b[0m\u001b[0mmale_model\u001b[0m\u001b[0;34m.\u001b[0m\u001b[0mparams\u001b[0m\u001b[0;34m)\u001b[0m\u001b[0;34m)\u001b[0m \u001b[0;34m@\u001b[0m \u001b[0mnp\u001b[0m\u001b[0;34m.\u001b[0m\u001b[0marray\u001b[0m\u001b[0;34m(\u001b[0m\u001b[0mXm\u001b[0m\u001b[0;34m.\u001b[0m\u001b[0mvar\u001b[0m\u001b[0;34m(\u001b[0m\u001b[0;34m)\u001b[0m \u001b[0;34m+\u001b[0m \u001b[0mXf\u001b[0m\u001b[0;34m.\u001b[0m\u001b[0mvar\u001b[0m\u001b[0;34m(\u001b[0m\u001b[0;34m)\u001b[0m\u001b[0;34m)\u001b[0m \u001b[0;34m@\u001b[0m \u001b[0mnp\u001b[0m\u001b[0;34m.\u001b[0m\u001b[0marray\u001b[0m\u001b[0;34m(\u001b[0m\u001b[0mmale_model\u001b[0m\u001b[0;34m.\u001b[0m\u001b[0mparams\u001b[0m\u001b[0;34m)\u001b[0m\u001b[0;34m\u001b[0m\u001b[0m\n\u001b[0m",
      "\u001b[0;31mValueError\u001b[0m: Scalar operands are not allowed, use '*' instead"
     ]
    }
   ],
   "source": [
    "np.transpose(np.array(male_model.params)) @ np.array(Xm.var() + Xf.var()) @ np.array(male_model.params)"
   ]
  },
  {
   "cell_type": "code",
   "execution_count": 39,
   "metadata": {
    "collapsed": false
   },
   "outputs": [
    {
     "data": {
      "text/plain": [
       "-204.21219897599974"
      ]
     },
     "execution_count": 39,
     "metadata": {},
     "output_type": "execute_result"
    }
   ],
   "source": [
    "np.transpose(np.array(male_model.params)) * (np.mean(Xm).var() - np.mean(Xf).var()) @ np.array(male_model.params)"
   ]
  },
  {
   "cell_type": "code",
   "execution_count": 40,
   "metadata": {
    "collapsed": false
   },
   "outputs": [
    {
     "data": {
      "text/plain": [
       "2.1797058594948919"
      ]
     },
     "execution_count": 40,
     "metadata": {},
     "output_type": "execute_result"
    }
   ],
   "source": [
    "(np.transpose(np.array(np.mean(Xm) - np.mean(Xf))) * male_model.params.var()) @ np.array(np.mean(Xm) - np.mean(Xf))"
   ]
  },
  {
   "cell_type": "code",
   "execution_count": 41,
   "metadata": {
    "collapsed": false
   },
   "outputs": [
    {
     "data": {
      "text/plain": [
       "MARST_Separated/divorced/spouse absent                8.533520e-03\n",
       "MARST_Single/never married                           -1.248964e-02\n",
       "MARST_Widowed                                         1.743828e-02\n",
       "NATIVITY_Native-born                                  1.191870e-03\n",
       "NATIVITY_Unknown/missing                             -2.501063e-07\n",
       "EDATTAIN_Secondary completed                          1.030447e-03\n",
       "EDATTAIN_University completed                        -6.232971e-04\n",
       "EMPSTAT_Inactive                                     -4.308824e-03\n",
       "EMPSTAT_Unemployed                                   -6.422489e-04\n",
       "OCCISCO_Crafts and related trades workers             9.066435e-03\n",
       "OCCISCO_Elementary occupations                        2.620443e-03\n",
       "OCCISCO_Legislators, senior officials and managers   -2.931533e-03\n",
       "OCCISCO_NIU (not in universe)                        -1.940097e-03\n",
       "OCCISCO_Plant and machine operators and assemblers    6.519700e-03\n",
       "OCCISCO_Professionals                                 8.930786e-04\n",
       "OCCISCO_Service workers and shop and market sales    -3.933959e-03\n",
       "OCCISCO_Skilled agricultural and fishery workers      3.002209e-03\n",
       "OCCISCO_Technicians and associate professionals      -7.770051e-03\n",
       "INDGEN_Construction                                  -2.817006e-03\n",
       "INDGEN_Education                                      1.527353e-03\n",
       "INDGEN_Electricity, gas and water                    -3.272730e-04\n",
       "INDGEN_Financial services and insurance               4.413078e-04\n",
       "INDGEN_Health and social work                        -3.616800e-03\n",
       "INDGEN_Hotels and restaurants                         1.074945e-03\n",
       "INDGEN_Manufacturing                                 -1.193698e-03\n",
       "INDGEN_Mining                                         1.787253e-03\n",
       "INDGEN_NIU (not in universe)                         -1.940097e-03\n",
       "INDGEN_Other services                                 6.430283e-05\n",
       "INDGEN_Public administration and defense              2.765661e-04\n",
       "INDGEN_Real estate and business services             -8.894924e-04\n",
       "INDGEN_Transportation, storage and communications    -3.358160e-03\n",
       "INDGEN_Wholesale and retail trade                     7.730878e-04\n",
       "AGE                                                  -2.878336e-03\n",
       "constant                                             -0.000000e+00\n",
       "dtype: float64"
      ]
     },
     "execution_count": 41,
     "metadata": {},
     "output_type": "execute_result"
    }
   ],
   "source": [
    "# interactions\n",
    "(np.mean(Xm) - np.mean(Xf)) * (male_model.params - female_model.params)"
   ]
  },
  {
   "cell_type": "markdown",
   "metadata": {},
   "source": [
    "oaxaca inctot mar* nativity* edattain* emp* occisco* indgen* age, by(female) pooled relax"
   ]
  }
 ],
 "metadata": {
  "anaconda-cloud": {},
  "kernelspec": {
   "display_name": "Python [conda root]",
   "language": "python",
   "name": "conda-root-py"
  },
  "language_info": {
   "codemirror_mode": {
    "name": "ipython",
    "version": 3
   },
   "file_extension": ".py",
   "mimetype": "text/x-python",
   "name": "python",
   "nbconvert_exporter": "python",
   "pygments_lexer": "ipython3",
   "version": "3.5.2"
  }
 },
 "nbformat": 4,
 "nbformat_minor": 2
}
